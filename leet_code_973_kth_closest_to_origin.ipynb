{
  "nbformat": 4,
  "nbformat_minor": 0,
  "metadata": {
    "colab": {
      "provenance": [],
      "authorship_tag": "ABX9TyPqDOT1WLY5BwJdWHN90ha3",
      "include_colab_link": true
    },
    "kernelspec": {
      "name": "python3",
      "display_name": "Python 3"
    },
    "language_info": {
      "name": "python"
    }
  },
  "cells": [
    {
      "cell_type": "markdown",
      "metadata": {
        "id": "view-in-github",
        "colab_type": "text"
      },
      "source": [
        "<a href=\"https://colab.research.google.com/github/123abhinaya/DSA-for-FAANG/blob/main/leet_code_973_kth_closest_to_origin.ipynb\" target=\"_parent\"><img src=\"https://colab.research.google.com/assets/colab-badge.svg\" alt=\"Open In Colab\"/></a>"
      ]
    },
    {
      "cell_type": "markdown",
      "source": [
        "kth closest point to origin leet code 973"
      ],
      "metadata": {
        "id": "o0OEIRohKWkw"
      }
    },
    {
      "cell_type": "code",
      "source": [
        "from heapq import heappush,heappop\n",
        "import math\n",
        "def dist(x,y):\n",
        "  return math.sqrt(x**2+y**2) ## [0,0] tho distance find cheyali so x1,y1 0\n",
        "def closest(arr,k):\n",
        "  n = len(arr)\n",
        "  min_heap = []\n",
        "  for i in range(n):\n",
        "    x = arr[i][0]\n",
        "    y = arr[i][1]\n",
        "    heappush(min_heap,(dist(x,y),arr[i]))\n",
        "  result = []\n",
        "  for i in range(k):\n",
        "    result.append(heappop(min_heap)[1])\n",
        "  print(result)\n",
        "arr = [[1,3],[-2,2]]\n",
        "k = 1\n",
        "closest(arr,k)\n",
        " ## time complexity = heap construction(logn) for n values so total ==> O(nlogn)"
      ],
      "metadata": {
        "colab": {
          "base_uri": "https://localhost:8080/"
        },
        "id": "LWFcFWhKKkJR",
        "outputId": "58c2cbd5-0d92-497d-ba1e-7212e6fea850"
      },
      "execution_count": 4,
      "outputs": [
        {
          "output_type": "stream",
          "name": "stdout",
          "text": [
            "[[-2, 2]]\n"
          ]
        }
      ]
    }
  ]
}