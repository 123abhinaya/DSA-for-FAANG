{
  "nbformat": 4,
  "nbformat_minor": 0,
  "metadata": {
    "colab": {
      "provenance": [],
      "authorship_tag": "ABX9TyP379FbcmwgENodYsGWrtJQ",
      "include_colab_link": true
    },
    "kernelspec": {
      "name": "python3",
      "display_name": "Python 3"
    },
    "language_info": {
      "name": "python"
    }
  },
  "cells": [
    {
      "cell_type": "markdown",
      "metadata": {
        "id": "view-in-github",
        "colab_type": "text"
      },
      "source": [
        "<a href=\"https://colab.research.google.com/github/123abhinaya/DSA-for-FAANG/blob/main/solutions_assignment_8.ipynb\" target=\"_parent\"><img src=\"https://colab.research.google.com/assets/colab-badge.svg\" alt=\"Open In Colab\"/></a>"
      ]
    },
    {
      "cell_type": "markdown",
      "source": [
        "Kth largest element using sorting algorithm(QUICK SORT)"
      ],
      "metadata": {
        "id": "-K3XuC2V2wmu"
      }
    },
    {
      "cell_type": "code",
      "execution_count": 4,
      "metadata": {
        "id": "eg3uDBH30aLR",
        "colab": {
          "base_uri": "https://localhost:8080/"
        },
        "outputId": "943e5ab1-e961-4c4a-9ce6-eb4e7f1cf2ab"
      },
      "outputs": [
        {
          "output_type": "stream",
          "name": "stdout",
          "text": [
            "40\n"
          ]
        }
      ],
      "source": [
        "def sel_sort(arr,p,q):\n",
        "  pivot = arr[p]\n",
        "  i = p\n",
        "  j = p+1\n",
        "  while (j <= q):\n",
        "    if(arr[j] < pivot):\n",
        "      i += 1\n",
        "      arr[j],arr[i] = arr[i],arr[j]\n",
        "    j += 1\n",
        "  arr[p],arr[i] = arr[i],arr[p]\n",
        "  return i\n",
        "def selection_algo(arr,k,i,j):\n",
        "  if i <= j:\n",
        "    m = sel_sort(arr,i,j)\n",
        "    if(m == k):\n",
        "      return arr[m]\n",
        "    elif(m > k):\n",
        "     return selection_algo(arr,k,i,m-1)\n",
        "    else:\n",
        "     return selection_algo(arr,k,m+1,j)\n",
        "arr = [5,7,9,12,20,40,46]\n",
        "k = 2\n",
        "print(selection_algo(arr,len(arr)-k,0,len(arr)-1))"
      ]
    },
    {
      "cell_type": "markdown",
      "source": [
        "Kth smallest element using soring algorithms(Quick sort)"
      ],
      "metadata": {
        "id": "UkuBuszx2_0G"
      }
    },
    {
      "cell_type": "code",
      "source": [
        "def sel_sort(arr,p,q):\n",
        "  pivot = arr[p]\n",
        "  i = p\n",
        "  j = p+1\n",
        "  while (j <= q):\n",
        "    if(arr[j] < pivot):\n",
        "      i += 1\n",
        "      arr[j],arr[i] = arr[i],arr[j]\n",
        "    j += 1\n",
        "  arr[p],arr[i] = arr[i],arr[p]\n",
        "  return i\n",
        "def selection_algo(arr,k,i,j):\n",
        "  if i <= j:\n",
        "    m = sel_sort(arr,i,j)\n",
        "    if(m == k):\n",
        "      return arr[m]\n",
        "    elif(m > k):\n",
        "     return selection_algo(arr,k,i,m-1)\n",
        "    else:\n",
        "     return selection_algo(arr,k,m+1,j)\n",
        "arr = [5,7,9,12,20,40,46]\n",
        "k = 2\n",
        "print(selection_algo(arr,k-1,0,len(arr)-1))"
      ],
      "metadata": {
        "colab": {
          "base_uri": "https://localhost:8080/"
        },
        "id": "belLkMlw3GI_",
        "outputId": "689426c0-1ca6-4cb7-a42a-634dcf5905c0"
      },
      "execution_count": 5,
      "outputs": [
        {
          "output_type": "stream",
          "name": "stdout",
          "text": [
            "7\n"
          ]
        }
      ]
    },
    {
      "cell_type": "markdown",
      "source": [
        "sort colours (not optmize problem)"
      ],
      "metadata": {
        "id": "Rs9V9Uu0ARoW"
      }
    },
    {
      "cell_type": "code",
      "source": [
        "## using quick sort\n",
        "## tc = O(nlogn)\n",
        "## sc = O(1)\n",
        "def conqure(arr,p,x,q):\n",
        "  i = p\n",
        "  j = x+1\n",
        "  b = []\n",
        "  while (i <= x and j <= q):\n",
        "    if (arr[i] < arr[j]):\n",
        "      b.append(arr[i])\n",
        "      i += 1\n",
        "    else:\n",
        "      b.append(arr[j])\n",
        "      j += 1\n",
        "  while(i <= x):\n",
        "    b.append(arr[i])\n",
        "    i += 1\n",
        "  while(j <= q):\n",
        "    b.append(arr[j])\n",
        "    j += 1\n",
        "  for i in range(len(b)):\n",
        "    arr[p+i] = b[i]\n",
        "def sort_colors(arr,i,j):\n",
        "  if(i == j):\n",
        "    return arr[i]\n",
        "  mid = i + (j-i)//2\n",
        "  sort_colors(arr,i,mid)\n",
        "  sort_colors(arr,mid+1,j)\n",
        "  conqure(arr,i,mid,j)\n",
        "  return arr\n",
        "arr = [90,45,100,67,0,8]\n",
        "print(sort_colors(arr,0,len(arr)-1))"
      ],
      "metadata": {
        "id": "ar6HPvwf5kbN",
        "colab": {
          "base_uri": "https://localhost:8080/"
        },
        "outputId": "682a2726-5e9e-49c1-9bcd-2746ea457d2e"
      },
      "execution_count": 3,
      "outputs": [
        {
          "output_type": "stream",
          "name": "stdout",
          "text": [
            "[0, 8, 45, 67, 90, 100]\n"
          ]
        }
      ]
    },
    {
      "cell_type": "markdown",
      "source": [
        "optimize code for sort colors"
      ],
      "metadata": {
        "id": "OjCTy8GbAYPj"
      }
    },
    {
      "cell_type": "code",
      "source": [
        "## Dutch national flag algorithm\n",
        "## tc = O(n)\n",
        "## sc = O(1)\n",
        "arr = [0,1,0,1,2,0,1,2,1,1]\n",
        "i = 0\n",
        "j = len(arr)-1\n",
        "curr = 0\n",
        "while( j > curr ):\n",
        "  if(arr[curr] == 0):\n",
        "    arr[curr],arr[i] = arr[i],arr[curr]\n",
        "    i += 1\n",
        "    curr += 1\n",
        "  elif(arr[curr] == 2):\n",
        "    arr[curr],arr[j] = arr[j],arr[curr]\n",
        "    curr += 1\n",
        "    j -= 1\n",
        "  else:\n",
        "    curr += 1\n",
        "print(arr)"
      ],
      "metadata": {
        "colab": {
          "base_uri": "https://localhost:8080/"
        },
        "id": "HqutMrS3Ajtc",
        "outputId": "4a3f294b-82d4-43d9-8f5c-2d7cdb1b104c"
      },
      "execution_count": 23,
      "outputs": [
        {
          "output_type": "stream",
          "name": "stdout",
          "text": [
            "[0, 0, 0, 1, 1, 1, 1, 1, 2, 2]\n"
          ]
        }
      ]
    },
    {
      "cell_type": "markdown",
      "source": [
        "Majority element optimal solution(Boyer moore votting algorithm)"
      ],
      "metadata": {
        "id": "91LtfKnjRX5W"
      }
    },
    {
      "cell_type": "code",
      "source": [
        "## function defination\n",
        "## tc for majority eements = O(n)\n",
        "## sc = O(1)\n",
        "def majority_ele(arr,n):\n",
        "  ele = arr[0]\n",
        "  cnt = 0\n",
        "  for i in arr:\n",
        "    if i == ele:\n",
        "      cnt += 1\n",
        "    else:\n",
        "      cnt -= 1\n",
        "      if cnt == 0:\n",
        "        ele = i\n",
        "        cnt = 1\n",
        "  return checking_maj_or_not(arr,ele)\n",
        "## tc for cheking majority or not = O(n)\n",
        "## sc = O(1)\n",
        "def checking_maj_or_not(arr,x):\n",
        "  cnt = 0\n",
        "  for i in arr:\n",
        "    if i == x:\n",
        "      cnt += 1\n",
        "  if cnt > len(arr)//2:\n",
        "    return x\n",
        "  else:\n",
        "    return -1\n",
        "## driver code\n",
        "arr = [2,2,1,2,1,1,2,2,2]\n",
        "print(\"majority element in arr is : \",majority_ele(arr,len(arr)))\n",
        "## total tc ==> O(2n) = O(n)\n",
        "## sc ==> O(1)"
      ],
      "metadata": {
        "colab": {
          "base_uri": "https://localhost:8080/"
        },
        "id": "d0zno8x4RdOr",
        "outputId": "382b63d7-4467-490f-9ce0-5ef465d4d16d"
      },
      "execution_count": 41,
      "outputs": [
        {
          "output_type": "stream",
          "name": "stdout",
          "text": [
            "majority element in arr is :  2\n"
          ]
        }
      ]
    },
    {
      "cell_type": "markdown",
      "source": [
        "Peak Element\n",
        "1. problem in which an element in array that is strictly greater than its neigbhours\n",
        "2. for ex: arr =[1,2,3,1]\n",
        "3. the output must return 3 as it is greater than 2 and 1 (its neigbhours)"
      ],
      "metadata": {
        "id": "y11-f1eSVzFW"
      }
    },
    {
      "cell_type": "code",
      "source": [
        "## function defination\n",
        "def peak(arr):\n",
        "  i = 0\n",
        "  j = i+1\n",
        "  k = j+1\n",
        "  b = []\n",
        "  while(k<len(arr)):\n",
        "    if(arr[i] < arr[j] and arr[k] < arr[j]):\n",
        "      b.append(arr[j])\n",
        "    i = j\n",
        "    j = k\n",
        "    k = k+1\n",
        "  return b\n",
        "## driver code\n",
        "arr = [1,2,3,1,5,4]\n",
        "print(peak(arr))"
      ],
      "metadata": {
        "colab": {
          "base_uri": "https://localhost:8080/"
        },
        "id": "MhmbfYk2WN17",
        "outputId": "e153a500-47d2-411d-bd69-1a1a0ed1c199"
      },
      "execution_count": 46,
      "outputs": [
        {
          "output_type": "stream",
          "name": "stdout",
          "text": [
            "[3, 5]\n"
          ]
        }
      ]
    },
    {
      "cell_type": "code",
      "source": [
        "def findPeakElement(nums):\n",
        "    if nums[0] < nums[1]:\n",
        "        return 0\n",
        "    elif nums[-1] > nums[-2]:\n",
        "        return len(nums)-1\n",
        "    else:\n",
        "        i = 0\n",
        "        j = i+1\n",
        "        k = j+1\n",
        "        while(k<len(arr)-1):\n",
        "            if(nums[i] < nums[j] and nums[k] < nums[j]):\n",
        "                print(j)\n",
        "            i = j\n",
        "            j = k\n",
        "            k = k+1\n",
        "nums = [1,2,1,3,1]\n",
        "print(findPeakElement(nums))"
      ],
      "metadata": {
        "colab": {
          "base_uri": "https://localhost:8080/"
        },
        "id": "Bmwy2c30g3xh",
        "outputId": "27049c83-085a-44dd-823e-c5e797646d29"
      },
      "execution_count": 50,
      "outputs": [
        {
          "output_type": "stream",
          "name": "stdout",
          "text": [
            "0\n"
          ]
        }
      ]
    },
    {
      "cell_type": "code",
      "source": [
        "## tc ==> O(n)\n",
        "## sc ==> O(1)\n",
        "## function call\n",
        "def peak_ele(arr):\n",
        "  n = len(arr)\n",
        "  if n==1:\n",
        "    return 0\n",
        "  if arr[0] > arr[1]:\n",
        "    return 0\n",
        "  if arr[n-1] > arr[n-2]:\n",
        "    return n-1\n",
        "  for i in range(1,n-1):\n",
        "    if arr[i] > arr[i-1] and arr[i] > arr[i+1]:\n",
        "      return i\n",
        "  return -1\n",
        "## driver code\n",
        "arr = [1,2,3,1]\n",
        "print(peak_ele(arr))"
      ],
      "metadata": {
        "colab": {
          "base_uri": "https://localhost:8080/"
        },
        "id": "nIPsdA3gcgaJ",
        "outputId": "9b1705ef-29aa-4091-baa4-0f2fef709461"
      },
      "execution_count": 53,
      "outputs": [
        {
          "output_type": "stream",
          "name": "stdout",
          "text": [
            "2\n"
          ]
        }
      ]
    },
    {
      "cell_type": "markdown",
      "source": [
        "Optimal solution for finding peak element O(log(n))"
      ],
      "metadata": {
        "id": "2IOVgsndk4fh"
      }
    },
    {
      "cell_type": "code",
      "source": [
        "## tc ==> O(log(n))\n",
        "## sc ==> O(1)\n",
        "def findPeakElement(nums):\n",
        "        l, r = 0, len(nums) - 1\n",
        "\n",
        "        while l < r:\n",
        "            m = (l + r) // 2\n",
        "\n",
        "            if nums[m] < nums[m + 1]:\n",
        "                l = m + 1\n",
        "            else:\n",
        "                r = m\n",
        "        return l\n",
        "nums = [10,20,90]\n",
        "print(findPeakElement(nums))"
      ],
      "metadata": {
        "colab": {
          "base_uri": "https://localhost:8080/"
        },
        "id": "ZunGyw0Uko91",
        "outputId": "4e69341d-d555-4e2c-c474-1b2a5c27205e"
      },
      "execution_count": 60,
      "outputs": [
        {
          "output_type": "stream",
          "name": "stdout",
          "text": [
            "2\n"
          ]
        }
      ]
    }
  ]
}