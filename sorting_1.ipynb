{
  "nbformat": 4,
  "nbformat_minor": 0,
  "metadata": {
    "colab": {
      "provenance": [],
      "authorship_tag": "ABX9TyMlWhmYqGADSdTdj2Er4SgU",
      "include_colab_link": true
    },
    "kernelspec": {
      "name": "python3",
      "display_name": "Python 3"
    },
    "language_info": {
      "name": "python"
    }
  },
  "cells": [
    {
      "cell_type": "markdown",
      "metadata": {
        "id": "view-in-github",
        "colab_type": "text"
      },
      "source": [
        "<a href=\"https://colab.research.google.com/github/123abhinaya/DSA-for-FAANG/blob/main/sorting_1.ipynb\" target=\"_parent\"><img src=\"https://colab.research.google.com/assets/colab-badge.svg\" alt=\"Open In Colab\"/></a>"
      ]
    },
    {
      "cell_type": "markdown",
      "source": [
        "**Comparision based sorting algo**\n",
        "\n",
        "1.   Bubble sort\n",
        "2.   Selection sort\n",
        "3.   Insertion sory\n",
        "4.   Quick sort(unstable)\n",
        "5.   Merge sort\n",
        "6.   Heap sort(unstable)\n",
        "7.   Shell sort\n",
        "**non comparision based sorting algo**\n",
        "\n",
        "1.   Count sort\n",
        "2.   Radix sort\n",
        "3.   Bucket sort\n",
        "\n",
        "--------------------------------------------------------------------------------\n",
        "\n",
        "\n",
        "\n",
        "\n",
        "\n",
        "\n"
      ],
      "metadata": {
        "id": "36U_X6MuZ1RL"
      }
    },
    {
      "cell_type": "markdown",
      "source": [
        "BUBBLE SORT"
      ],
      "metadata": {
        "id": "3a8K5MKjfSTZ"
      }
    },
    {
      "cell_type": "code",
      "source": [
        "def bubble_sort(arr):\n",
        "  for i in range(len(arr)):\n",
        "    for j in range(len(arr)-i-1):\n",
        "      if (arr[j]>arr[j+1]):\n",
        "        arr[j],arr[j+1]=arr[j+1],arr[j]\n",
        "  return arr\n",
        "arr = [70,20,50,30,90,5,15]\n",
        "print(bubble_sort(arr))\n",
        "## TIME COMPLEXITY = O(n^2)\n",
        "# best case swap = 0 (elem are ascending order)\n",
        "# wrost case swap = n^2 (ele ar in descending order)"
      ],
      "metadata": {
        "colab": {
          "base_uri": "https://localhost:8080/"
        },
        "id": "sg3Jfcj5aBp0",
        "outputId": "c810eed6-acd5-4135-cc8b-61c843fa5529"
      },
      "execution_count": 9,
      "outputs": [
        {
          "output_type": "stream",
          "name": "stdout",
          "text": [
            "[5, 15, 20, 30, 50, 70, 90]\n"
          ]
        }
      ]
    },
    {
      "cell_type": "markdown",
      "source": [
        "SELECTION SORT"
      ],
      "metadata": {
        "id": "N5m5smP6m3Fm"
      }
    },
    {
      "cell_type": "code",
      "source": [
        "def selection_sort(arr):\n",
        "  for i in range(len(arr)):\n",
        "    min_pt = i\n",
        "    for j in range(i+1,len(arr)):\n",
        "      if(arr[min_pt]>arr[j]):\n",
        "        min_pt = j\n",
        "    arr[i],arr[min_pt] = arr[min_pt],arr[i]\n",
        "  return arr\n",
        "arr = [70,20,50,30,90,5,15]\n",
        "print(selection_sort(arr))\n",
        "## TIME COMPLEXITY = O(n^2)\n",
        "# best case swap = 0 (elem are ascending order)\n",
        "# wrost case swap = n-1 (ele ar in descending order) O(n)"
      ],
      "metadata": {
        "colab": {
          "base_uri": "https://localhost:8080/"
        },
        "id": "-iKntY-vm6uV",
        "outputId": "c536f58d-6d60-42d1-a6a6-03e383dcd763"
      },
      "execution_count": 16,
      "outputs": [
        {
          "output_type": "stream",
          "name": "stdout",
          "text": [
            "[5, 15, 20, 30, 50, 70, 90]\n"
          ]
        }
      ]
    },
    {
      "cell_type": "markdown",
      "source": [
        "INSERTION SORT"
      ],
      "metadata": {
        "id": "B4YMLKmlvbcB"
      }
    },
    {
      "cell_type": "code",
      "source": [
        "def insertion_sort(arr):\n",
        "  for i in range(1,len(arr)):\n",
        "    key = arr[i]\n",
        "    j = i-1\n",
        "    while(j>=0 and arr[j]>key):\n",
        "      arr[j+1] = arr[j]\n",
        "      j = j-1\n",
        "    arr[j+1] = key\n",
        "  return arr\n",
        "arr = [70,20,50,30,90,5,15]\n",
        "print(insertion_sort(arr))\n",
        "## TIME COMPLEXITY = O(n^2)"
      ],
      "metadata": {
        "colab": {
          "base_uri": "https://localhost:8080/"
        },
        "id": "tZtr5HzizCYv",
        "outputId": "e654a7a0-edd9-4d1a-cfe7-45c8fd7be95e"
      },
      "execution_count": 19,
      "outputs": [
        {
          "output_type": "stream",
          "name": "stdout",
          "text": [
            "[5, 15, 20, 30, 50, 70, 90]\n"
          ]
        }
      ]
    }
  ]
}