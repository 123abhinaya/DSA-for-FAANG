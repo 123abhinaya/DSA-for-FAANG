{
  "nbformat": 4,
  "nbformat_minor": 0,
  "metadata": {
    "colab": {
      "provenance": [],
      "authorship_tag": "ABX9TyNSNyQ/bRNfwQfUItbIQFER",
      "include_colab_link": true
    },
    "kernelspec": {
      "name": "python3",
      "display_name": "Python 3"
    },
    "language_info": {
      "name": "python"
    }
  },
  "cells": [
    {
      "cell_type": "markdown",
      "metadata": {
        "id": "view-in-github",
        "colab_type": "text"
      },
      "source": [
        "<a href=\"https://colab.research.google.com/github/123abhinaya/DSA-for-FAANG/blob/main/ternary_search_implementation.ipynb\" target=\"_parent\"><img src=\"https://colab.research.google.com/assets/colab-badge.svg\" alt=\"Open In Colab\"/></a>"
      ]
    },
    {
      "cell_type": "markdown",
      "source": [
        "**Ternart Search implementation and problems on it**"
      ],
      "metadata": {
        "id": "l1JIc1pCCevO"
      }
    },
    {
      "cell_type": "code",
      "source": [
        "def ternary_search(arr,i,j,k):\n",
        "   mid1 = i +(j-i)//3\n",
        "   mid2 = j -(j-i)//3\n",
        "   while(i<=j):\n",
        "    if(arr[mid1] == k):\n",
        "      return mid1\n",
        "    elif(arr[mid2] == k):\n",
        "      return mid2\n",
        "    elif(arr[mid1] > k):\n",
        "      return ternary_search(arr,i,mid1-1,k)\n",
        "    elif(arr[mid2] < k):\n",
        "      return ternary_search(arr,mid2+1,j,k)\n",
        "    else:\n",
        "      return ternary_search(arr,mid1+1,mid2-1,k)\n",
        "   else:\n",
        "    return -1\n",
        "arr = [10,20,30,40,50,60,70,80,90,100]\n",
        "i,j = 0,len(arr)-1\n",
        "k = int(input(\"enter:\"))\n",
        "print(ternary_search(arr,i,j,k))\n",
        "# time complexit = O(logn to base 3)----> recu rel = t(n/3)+c"
      ],
      "metadata": {
        "colab": {
          "base_uri": "https://localhost:8080/"
        },
        "id": "c7e_q7H7Gb1d",
        "outputId": "acc6a079-c653-4e35-d3b1-837de53f3f0f"
      },
      "execution_count": 20,
      "outputs": [
        {
          "output_type": "stream",
          "name": "stdout",
          "text": [
            "enter:24\n",
            "-1\n"
          ]
        }
      ]
    }
  ]
}