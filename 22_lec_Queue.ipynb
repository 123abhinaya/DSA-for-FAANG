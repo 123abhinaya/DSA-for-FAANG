{
  "nbformat": 4,
  "nbformat_minor": 0,
  "metadata": {
    "colab": {
      "provenance": [],
      "authorship_tag": "ABX9TyMQaYCXqfOaklMFF8Ft02rD",
      "include_colab_link": true
    },
    "kernelspec": {
      "name": "python3",
      "display_name": "Python 3"
    },
    "language_info": {
      "name": "python"
    }
  },
  "cells": [
    {
      "cell_type": "markdown",
      "metadata": {
        "id": "view-in-github",
        "colab_type": "text"
      },
      "source": [
        "<a href=\"https://colab.research.google.com/github/123abhinaya/DSA-for-FAANG/blob/main/22_lec_Queue.ipynb\" target=\"_parent\"><img src=\"https://colab.research.google.com/assets/colab-badge.svg\" alt=\"Open In Colab\"/></a>"
      ]
    },
    {
      "cell_type": "markdown",
      "source": [
        " fifo based where it has front and rare (front used for insertion and rare used for deletion) ADT of queue is\n",
        "1.  enqueue\n",
        "2.  dequeue"
      ],
      "metadata": {
        "id": "TD277vS3fvnI"
      }
    },
    {
      "cell_type": "code",
      "source": [
        "## tc = O(1)\n",
        "## sc = O(1)\n",
        "from collections import deque\n",
        "\n",
        "class Queue:\n",
        "    def __init__(self):\n",
        "        self.container = deque() ## provides the insertion and deletion is possible from both ends\n",
        "\n",
        "    def enqueue(self, val):\n",
        "        self.container.append(val)  # O(1) operation\n",
        "\n",
        "    def dequeue(self):\n",
        "        if not self.container:\n",
        "            return \"Queue is empty\"\n",
        "        return self.container.popleft()  # O(1) operation\n",
        "\n",
        "    def is_empty(self):\n",
        "        return len(self.container) == 0\n",
        "    def size(self):\n",
        "      return len(self.container)\n",
        "\n",
        "    def front(self):\n",
        "        if self.is_empty():\n",
        "            return \"Queue is empty\"\n",
        "        return self.container[0]\n",
        "q = Queue()\n",
        "q.enqueue(10)\n",
        "q.enqueue(10)\n",
        "q.dequeue()\n",
        "q.container"
      ],
      "metadata": {
        "colab": {
          "base_uri": "https://localhost:8080/"
        },
        "id": "nRjHsv-cwEut",
        "outputId": "c5e5e35a-fdd0-4999-dfa4-a046ce5745af"
      },
      "execution_count": 13,
      "outputs": [
        {
          "output_type": "execute_result",
          "data": {
            "text/plain": [
              "deque([10])"
            ]
          },
          "metadata": {},
          "execution_count": 13
        }
      ]
    }
  ]
}