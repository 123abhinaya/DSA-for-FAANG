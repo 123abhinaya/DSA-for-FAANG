{
  "nbformat": 4,
  "nbformat_minor": 0,
  "metadata": {
    "colab": {
      "provenance": [],
      "authorship_tag": "ABX9TyOroWy+wjWG4JjNOe8kgtPp",
      "include_colab_link": true
    },
    "kernelspec": {
      "name": "python3",
      "display_name": "Python 3"
    },
    "language_info": {
      "name": "python"
    }
  },
  "cells": [
    {
      "cell_type": "markdown",
      "metadata": {
        "id": "view-in-github",
        "colab_type": "text"
      },
      "source": [
        "<a href=\"https://colab.research.google.com/github/123abhinaya/DSA-for-FAANG/blob/main/Linked_list.ipynb\" target=\"_parent\"><img src=\"https://colab.research.google.com/assets/colab-badge.svg\" alt=\"Open In Colab\"/></a>"
      ]
    },
    {
      "cell_type": "code",
      "execution_count": 7,
      "metadata": {
        "colab": {
          "base_uri": "https://localhost:8080/"
        },
        "id": "5xjX_3RkmzY2",
        "outputId": "b57180d5-7ebf-4366-ec82-9bf4c55143f2"
      },
      "outputs": [
        {
          "output_type": "stream",
          "name": "stdout",
          "text": [
            "10\n",
            "46\n",
            "45\n",
            "89\n",
            "71\n",
            "87\n"
          ]
        }
      ],
      "source": [
        "class Node:\n",
        "  def __init__(self,data):\n",
        "    self.node = data\n",
        "    self.next = None\n",
        "class Linkedlist:\n",
        "  def __init__(self):\n",
        "    self.head = None\n",
        "\n",
        "\n",
        "  def insertion_beg(self,data):\n",
        "    new_node = Node(data)\n",
        "    if self.head == None:\n",
        "      self.head = new_node\n",
        "    else:\n",
        "      new_node.next = self.head\n",
        "      self.head = new_node\n",
        "\n",
        "\n",
        "\n",
        "  def insertion_at_index(self,data,k):\n",
        "    new_node = Node(data)\n",
        "    if k == 0:\n",
        "      new_node.next = self.head\n",
        "      self.head = new_node\n",
        "    else:\n",
        "      curr = self.head\n",
        "      cnt = 0\n",
        "      while(cnt < k-1 and curr):\n",
        "        curr = curr.next\n",
        "        cnt += 1\n",
        "      new_node.next = curr.next\n",
        "      curr.next = new_node\n",
        "\n",
        "\n",
        "\n",
        "  def insertion_end(self,data):\n",
        "    new_node = Node(data)\n",
        "    curr = self.head\n",
        "    while curr.next != None:\n",
        "      curr = curr.next\n",
        "    curr.next = new_node\n",
        "\n",
        "\n",
        "\n",
        "  def delete_beg(self):\n",
        "    if self.head == None:\n",
        "      print(\"no ele to remove\")\n",
        "      return\n",
        "    curr = self.head\n",
        "    self.head = self.head.next\n",
        "\n",
        "\n",
        "\n",
        "  def delete_index(self,x):\n",
        "    curr = self.head\n",
        "    if x == 0:\n",
        "      self.delete_beg()\n",
        "      return\n",
        "    else:\n",
        "      cnt = 0\n",
        "      while(cnt < x-1 and curr):\n",
        "        curr = curr.next\n",
        "        cnt += 1\n",
        "      if curr.next == None:\n",
        "        print(\"list index out of bound\")\n",
        "        return\n",
        "      curr.next = curr.next.next\n",
        "\n",
        "\n",
        "  def reversal(self):## my method\n",
        "    x = self.head\n",
        "    t = None\n",
        "    while(x.next and x.next.next):\n",
        "      y = x.next.next\n",
        "      x.next.next = x\n",
        "      k = x.next\n",
        "      x.next = t\n",
        "      x = y\n",
        "      t = k\n",
        "    else:\n",
        "      k = x.next\n",
        "      k.next = x\n",
        "      x.next = t\n",
        "    self.head = k\n",
        "  def reversal1(self):### mam's method\n",
        "    prev = None\n",
        "    curr = self.head\n",
        "    while curr:\n",
        "      next_node = curr.next\n",
        "      curr.next = prev\n",
        "      prev = curr\n",
        "      curr = next_node\n",
        "    self.head = prev\n",
        "\n",
        "  def traversal(self):\n",
        "    curr = self.head\n",
        "    while curr:\n",
        "      print(curr.node)\n",
        "      curr = curr.next\n",
        "\n",
        "\n",
        "\n",
        "\n",
        "ll = Linkedlist()\n",
        "ll.insertion_beg(10)\n",
        "ll.insertion_beg(46)\n",
        "ll.insertion_beg(45)\n",
        "ll.insertion_beg(89)\n",
        "ll.insertion_beg(71)\n",
        "ll.insertion_beg(87)\n",
        "ll.reversal1()\n",
        "ll.traversal()"
      ]
    }
  ]
}