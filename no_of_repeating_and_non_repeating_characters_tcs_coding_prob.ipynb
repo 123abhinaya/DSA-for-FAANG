{
  "nbformat": 4,
  "nbformat_minor": 0,
  "metadata": {
    "colab": {
      "provenance": [],
      "authorship_tag": "ABX9TyOQ+ya17AmqDlKIoIUfDu9A",
      "include_colab_link": true
    },
    "kernelspec": {
      "name": "python3",
      "display_name": "Python 3"
    },
    "language_info": {
      "name": "python"
    }
  },
  "cells": [
    {
      "cell_type": "markdown",
      "metadata": {
        "id": "view-in-github",
        "colab_type": "text"
      },
      "source": [
        "<a href=\"https://colab.research.google.com/github/123abhinaya/DSA-for-FAANG/blob/main/no_of_repeating_and_non_repeating_characters_tcs_coding_prob.ipynb\" target=\"_parent\"><img src=\"https://colab.research.google.com/assets/colab-badge.svg\" alt=\"Open In Colab\"/></a>"
      ]
    },
    {
      "cell_type": "markdown",
      "source": [
        "NO OF REPEATING AND NON REPEATING CHARATERS IN A STRING\n",
        "\n",
        "1.   first print first non repeating element\n",
        "2.   print number that appears in more\n",
        "3.   if string is empty print invalid\n",
        "4.   if non repeating character exits print none\n",
        "5.   if more than one repeating and non repeating ele exits then print first occurence\n"
      ],
      "metadata": {
        "id": "-SbNSTBa8OZF"
      }
    },
    {
      "cell_type": "code",
      "source": [
        "s = 'aabbccd'\n",
        "if (len(s)==0):\n",
        "    print('invalid')\n",
        "else:\n",
        "    d = {}\n",
        "    for i in s:\n",
        "        if i in d:\n",
        "            d[i] += 1\n",
        "        else:\n",
        "            d[i] = 1\n",
        "    max_freq = float('-inf')\n",
        "    for key,val in d.items():\n",
        "        if(val>max_freq):\n",
        "            max_freq = val\n",
        "            max_ele = key\n",
        "    for key,val in d.items():\n",
        "        if(val == 1):\n",
        "            min_ele = key\n",
        "            break\n",
        "        else:\n",
        "            min_ele = 'none'\n",
        "    print(\"min repeating char : \",min_ele,'\\n',\"max repeating characters : \",max_ele)"
      ],
      "metadata": {
        "colab": {
          "base_uri": "https://localhost:8080/"
        },
        "id": "GKL1w9as9MPD",
        "outputId": "0dd378cf-2c57-4359-8762-7e8bcb96115c"
      },
      "execution_count": 2,
      "outputs": [
        {
          "output_type": "stream",
          "name": "stdout",
          "text": [
            "min repeating char :  d \n",
            " max repeating characters :  a\n"
          ]
        }
      ]
    }
  ]
}