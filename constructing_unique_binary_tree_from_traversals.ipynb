{
  "nbformat": 4,
  "nbformat_minor": 0,
  "metadata": {
    "colab": {
      "provenance": [],
      "authorship_tag": "ABX9TyNPdeV33kUMBBFudjm/0Kjz",
      "include_colab_link": true
    },
    "kernelspec": {
      "name": "python3",
      "display_name": "Python 3"
    },
    "language_info": {
      "name": "python"
    }
  },
  "cells": [
    {
      "cell_type": "markdown",
      "metadata": {
        "id": "view-in-github",
        "colab_type": "text"
      },
      "source": [
        "<a href=\"https://colab.research.google.com/github/123abhinaya/DSA-for-FAANG/blob/main/constructing_unique_binary_tree_from_traversals.ipynb\" target=\"_parent\"><img src=\"https://colab.research.google.com/assets/colab-badge.svg\" alt=\"Open In Colab\"/></a>"
      ]
    },
    {
      "cell_type": "markdown",
      "source": [
        "creating unique binary tree from preorder and post order  \n",
        "1.  https://leetcode.com/problems/construct-binary-tree-from-preorder-and-inorder-traversal/description/"
      ],
      "metadata": {
        "id": "IsKbTuWz2U9z"
      }
    },
    {
      "cell_type": "code",
      "execution_count": 11,
      "metadata": {
        "id": "7zeW7qu_GQJs",
        "colab": {
          "base_uri": "https://localhost:8080/"
        },
        "outputId": "10e602fd-039c-4435-8188-101d7d679fb0"
      },
      "outputs": [
        {
          "output_type": "stream",
          "name": "stdout",
          "text": [
            "[3, 9, 20, None, None, 15, 7]\n"
          ]
        }
      ],
      "source": [
        "from collections import deque\n",
        "\n",
        "class TreeNode:\n",
        "    def __init__(self, val=0, left=None, right=None):\n",
        "        self.val = val\n",
        "        self.left = left\n",
        "        self.right = right\n",
        "\n",
        "def pre_and_in(pre, ino):\n",
        "    if not ino:\n",
        "        return None\n",
        "    root = TreeNode(pre[0])\n",
        "    index = ino.index(pre[0])\n",
        "    root.left = pre_and_in(pre[1:index+1], ino[:index])\n",
        "    root.right = pre_and_in(pre[index+1:], ino[index+1:])\n",
        "    return root\n",
        "\n",
        "def tree_to_list(root):\n",
        "    if not root:\n",
        "        return []\n",
        "    result = []\n",
        "    queue = deque([root])\n",
        "    while queue:\n",
        "        node = queue.popleft()\n",
        "        if node:\n",
        "            result.append(node.val)\n",
        "            queue.append(node.left)\n",
        "            queue.append(node.right)\n",
        "        else:\n",
        "            result.append(None)\n",
        "\n",
        "    while result and result[-1] is None:\n",
        "        result.pop()\n",
        "    return result\n",
        "\n",
        "# Example input\n",
        "inorder = [9, 3, 15, 20, 7]\n",
        "preorder = [3, 9, 20, 15, 7]\n",
        "\n",
        "root = pre_and_in(preorder, inorder)\n",
        "output = tree_to_list(root)\n",
        "print(output)\n"
      ]
    },
    {
      "cell_type": "markdown",
      "source": [
        "creating unique binary tree from postorder and inorder traversal\n",
        "1.  https://leetcode.com/problems/construct-binary-tree-from-inorder-and-postorder-traversal/description/"
      ],
      "metadata": {
        "id": "QZ79WRYp258I"
      }
    },
    {
      "cell_type": "code",
      "source": [
        "from collections import deque\n",
        "\n",
        "class TreeNode:\n",
        "    def __init__(self, val=0, left=None, right=None):\n",
        "        self.val = val\n",
        "        self.left = left\n",
        "        self.right = right\n",
        "\n",
        "def post_and_in(post, ino):\n",
        "    if not ino:\n",
        "        return None\n",
        "    root = TreeNode(post[-1])\n",
        "    index = ino.index(post[-1])\n",
        "    root.left = post_and_in(post[:index], ino[:index])\n",
        "    root.right = post_and_in(post[index:-1], ino[index+1:])\n",
        "    return root\n",
        "\n",
        "def tree_to_list(root):\n",
        "    if not root:\n",
        "        return []\n",
        "    result = []\n",
        "    queue = deque([root])\n",
        "    while queue:\n",
        "        node = queue.popleft()\n",
        "        if node:\n",
        "            result.append(node.val)\n",
        "            queue.append(node.left)\n",
        "            queue.append(node.right)\n",
        "        else:\n",
        "            result.append(None)\n",
        "\n",
        "    # Remove trailing None values to avoid unnecessary tail nulls\n",
        "    while result and result[-1] is None:\n",
        "        result.pop()\n",
        "    return result\n",
        "\n",
        "# Example input\n",
        "inorder = [9, 3, 15, 20, 7]\n",
        "postorder = [9, 15, 7, 20, 3]\n",
        "\n",
        "# Construct the tree and convert to list\n",
        "root = post_and_in(postorder, inorder)\n",
        "output = tree_to_list(root)\n",
        "print(output)\n"
      ],
      "metadata": {
        "colab": {
          "base_uri": "https://localhost:8080/"
        },
        "id": "_5RVy5HkzibT",
        "outputId": "2f292819-348a-4be3-895a-146722e4b8fe"
      },
      "execution_count": 8,
      "outputs": [
        {
          "output_type": "stream",
          "name": "stdout",
          "text": [
            "[3, 9, 20, None, None, 15, 7]\n"
          ]
        }
      ]
    }
  ]
}