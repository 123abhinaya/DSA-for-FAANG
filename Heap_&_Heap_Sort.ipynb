{
  "nbformat": 4,
  "nbformat_minor": 0,
  "metadata": {
    "colab": {
      "provenance": [],
      "authorship_tag": "ABX9TyMYInbzH2NxYX+CXuNsvkJn",
      "include_colab_link": true
    },
    "kernelspec": {
      "name": "python3",
      "display_name": "Python 3"
    },
    "language_info": {
      "name": "python"
    }
  },
  "cells": [
    {
      "cell_type": "markdown",
      "metadata": {
        "id": "view-in-github",
        "colab_type": "text"
      },
      "source": [
        "<a href=\"https://colab.research.google.com/github/123abhinaya/DSA-for-FAANG/blob/main/Heap_%26_Heap_Sort.ipynb\" target=\"_parent\"><img src=\"https://colab.research.google.com/assets/colab-badge.svg\" alt=\"Open In Colab\"/></a>"
      ]
    },
    {
      "cell_type": "markdown",
      "source": [
        "Building min-heap"
      ],
      "metadata": {
        "id": "zjej5YwII0LD"
      }
    },
    {
      "cell_type": "code",
      "source": [
        "def heapify(arr,n,i):\n",
        "  l = 2*i+1\n",
        "  r = 2*i+2\n",
        "  smallest = i\n",
        "  if(l<n and arr[l]<arr[smallest]):\n",
        "    smallest = l\n",
        "  if(r<n and arr[r]<arr[smallest]):\n",
        "    smallest = r\n",
        "  if(smallest != i):\n",
        "    arr[i],arr[smallest] = arr[smallest],arr[i]\n",
        "    heapify(arr,n,smallest)\n",
        "def built_min_heap(arr,n):\n",
        "  start_index = (n//2)-1\n",
        "  for i in range(start_index,-1,-1):\n",
        "    heapify(arr,n,i)\n",
        "  print(arr)\n",
        "\n",
        "arr = [100,3,5,4,6,13,10,29,8,15,19]\n",
        "built_min_heap(arr,len(arr))"
      ],
      "metadata": {
        "colab": {
          "base_uri": "https://localhost:8080/"
        },
        "id": "HduNmLQQI4Z0",
        "outputId": "194e574d-23f8-4492-bdd1-5c1e80e26233"
      },
      "execution_count": null,
      "outputs": [
        {
          "output_type": "stream",
          "name": "stdout",
          "text": [
            "[3, 4, 5, 8, 6, 13, 10, 29, 100, 15, 19]\n"
          ]
        }
      ]
    },
    {
      "cell_type": "markdown",
      "source": [
        "Building max-heap"
      ],
      "metadata": {
        "id": "7h95TsEeI9uP"
      }
    },
    {
      "cell_type": "code",
      "source": [
        "def heapify(arr,n,i):\n",
        "  l = 2*i+1\n",
        "  r = 2*i+2\n",
        "  largest = i\n",
        "  if(l<n and arr[l] > arr[largest]):\n",
        "    largest = l\n",
        "  if(r<n and arr[r] > arr[largest]):\n",
        "    largest = r\n",
        "  if(largest != i):\n",
        "    arr[i],arr[largest] = arr[largest],arr[i]\n",
        "    heapify(arr,n,largest)\n",
        "def built_max_heap(arr,n):\n",
        "  start_index = (n//2)-1\n",
        "  for i in range(start_index,-1,-1):\n",
        "    heapify(arr,n,i)\n",
        "arr = [100,3,5,4,6,13,10,29,8,15,19]\n",
        "built_max_heap(arr,len(arr))\n",
        "print(arr)"
      ],
      "metadata": {
        "colab": {
          "base_uri": "https://localhost:8080/"
        },
        "id": "iFzgYfNsJDYk",
        "outputId": "97acfbb2-23e5-495c-e6ba-5b62a0bfa649"
      },
      "execution_count": null,
      "outputs": [
        {
          "output_type": "stream",
          "name": "stdout",
          "text": [
            "[100, 29, 13, 8, 19, 5, 10, 4, 3, 15, 6]\n"
          ]
        }
      ]
    },
    {
      "cell_type": "markdown",
      "source": [
        "Given a array of strings words and an integer k return kth most frequent words\n",
        "Your output should be in lexicographical order\n",
        "Words = ['priya','batia','akshay','arpit','priya','arpit'],k=3 O/p = ['arpit','akshay','priya']"
      ],
      "metadata": {
        "id": "w78UEluFPbmV"
      }
    },
    {
      "cell_type": "code",
      "source": [],
      "metadata": {
        "id": "8epIlvxVQe1U"
      },
      "execution_count": null,
      "outputs": []
    }
  ]
}