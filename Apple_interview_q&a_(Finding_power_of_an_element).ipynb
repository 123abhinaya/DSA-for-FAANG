{
  "nbformat": 4,
  "nbformat_minor": 0,
  "metadata": {
    "colab": {
      "provenance": [],
      "authorship_tag": "ABX9TyOkTYpqXgHIx9azonq5yeHX",
      "include_colab_link": true
    },
    "kernelspec": {
      "name": "python3",
      "display_name": "Python 3"
    },
    "language_info": {
      "name": "python"
    }
  },
  "cells": [
    {
      "cell_type": "markdown",
      "metadata": {
        "id": "view-in-github",
        "colab_type": "text"
      },
      "source": [
        "<a href=\"https://colab.research.google.com/github/123abhinaya/DSA-for-FAANG/blob/main/Apple_interview_q%26a_(Finding_power_of_an_element).ipynb\" target=\"_parent\"><img src=\"https://colab.research.google.com/assets/colab-badge.svg\" alt=\"Open In Colab\"/></a>"
      ]
    },
    {
      "cell_type": "markdown",
      "source": [
        "**APPLE INTERVIEW QUEASTION **\n",
        "finding power of an element\n",
        "\n",
        "input :\n",
        "   ele = 2,n = 16\n",
        "\n",
        "\n",
        "output :\n",
        " 2^16\n",
        "\n",
        "\n",
        "\n",
        "\n",
        "\n",
        "\n"
      ],
      "metadata": {
        "id": "kyDIAmUzIWqY"
      }
    },
    {
      "cell_type": "code",
      "source": [
        "# brute force method\n",
        "a = int(input(\"enter ele:\"))\n",
        "n = int(input(\"enter power:\"))\n",
        "print(a**n) # tc = O(logn)"
      ],
      "metadata": {
        "colab": {
          "base_uri": "https://localhost:8080/"
        },
        "id": "zzig7-YqJGsx",
        "outputId": "c3136f73-31c3-4d3e-d847-b118c70ca55a"
      },
      "execution_count": 1,
      "outputs": [
        {
          "output_type": "stream",
          "name": "stdout",
          "text": [
            "enter ele:2\n",
            "enter power:16\n",
            "65536\n"
          ]
        }
      ]
    },
    {
      "cell_type": "code",
      "source": [
        "# using divide and conqure\n",
        "def power(a,n):\n",
        " if (n<0): # handling negative exponential\n",
        "  return 1/power(a,-n) # n = -2 so -n = 2\n",
        " else:\n",
        "  if(n == 0):\n",
        "    return 1\n",
        "  elif(n == 1):\n",
        "    return a\n",
        "  else:\n",
        "    half = power(a,n//2)\n",
        "    if(n%2 == 0):# for n => even\n",
        "      return half * half\n",
        "    else: # for n => odd\n",
        "      return a * half * half\n",
        "a = 2\n",
        "n = 17\n",
        "print(power(a,n))\n",
        "## time complexity = O(logn)\n",
        "## space complexity = O(n) because it is skewed left side ==> no.of levels in tree ==> wrost case\n",
        "## all left side func are stored in stack\n",
        "## in case of cbt space complexity is O(logn) ==> best case\n",
        "## but in cbt after every two comparisions the func is deleted and combines into one func in stack"
      ],
      "metadata": {
        "colab": {
          "base_uri": "https://localhost:8080/"
        },
        "id": "XlGJTNeOKCQp",
        "outputId": "c2d5ebbb-026b-42cd-8e94-956af959c295"
      },
      "execution_count": 41,
      "outputs": [
        {
          "output_type": "stream",
          "name": "stdout",
          "text": [
            "131072\n"
          ]
        }
      ]
    },
    {
      "cell_type": "code",
      "source": [
        "# iterative with O(1) space complexity\n",
        "def power_iter(a, n):\n",
        "    if n < 0:\n",
        "        a = 1 / a\n",
        "        n = -n\n",
        "    result = 1\n",
        "    while n > 0:\n",
        "        if n % 2 == 1:\n",
        "            result *= a\n",
        "        a *= a\n",
        "        n //= 2\n",
        "    return result\n"
      ],
      "metadata": {
        "id": "RDvfAKb1SFiB"
      },
      "execution_count": null,
      "outputs": []
    }
  ]
}