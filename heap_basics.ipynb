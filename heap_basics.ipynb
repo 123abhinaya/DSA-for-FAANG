{
  "nbformat": 4,
  "nbformat_minor": 0,
  "metadata": {
    "colab": {
      "provenance": [],
      "authorship_tag": "ABX9TyManXSaOsIV6gXmDOX7p3+u",
      "include_colab_link": true
    },
    "kernelspec": {
      "name": "python3",
      "display_name": "Python 3"
    },
    "language_info": {
      "name": "python"
    }
  },
  "cells": [
    {
      "cell_type": "markdown",
      "metadata": {
        "id": "view-in-github",
        "colab_type": "text"
      },
      "source": [
        "<a href=\"https://colab.research.google.com/github/123abhinaya/DSA-for-FAANG/blob/main/heap_basics.ipynb\" target=\"_parent\"><img src=\"https://colab.research.google.com/assets/colab-badge.svg\" alt=\"Open In Colab\"/></a>"
      ]
    },
    {
      "cell_type": "code",
      "execution_count": 2,
      "metadata": {
        "colab": {
          "base_uri": "https://localhost:8080/"
        },
        "id": "pWkUXFSSFKiT",
        "outputId": "e36090db-c3ea-4eeb-d1e9-90405a051a8f"
      },
      "outputs": [
        {
          "output_type": "stream",
          "name": "stdout",
          "text": [
            "[0, 7, 4, 9, 10]\n",
            "0\n",
            "0\n",
            "4\n",
            "4\n",
            "7\n",
            "7\n"
          ]
        }
      ],
      "source": [
        "import heapq\n",
        "arr = [10,7,4,9,0]\n",
        "heapq.heapify(arr)# list to heap\n",
        "l = []\n",
        "print(arr)\n",
        "for i in arr:\n",
        "    heapq.heappush(l,i) # creating min heap\n",
        "print(heapq.heappop(l)) # smallest element in arr\n",
        "for i in arr:\n",
        "    print(heapq.heappushpop(l,i)) ## elements in ascending order\n"
      ]
    }
  ]
}