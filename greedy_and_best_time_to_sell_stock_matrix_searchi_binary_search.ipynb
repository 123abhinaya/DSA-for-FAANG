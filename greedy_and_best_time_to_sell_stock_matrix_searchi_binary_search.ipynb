{
  "nbformat": 4,
  "nbformat_minor": 0,
  "metadata": {
    "colab": {
      "provenance": [],
      "authorship_tag": "ABX9TyPax5mll6DsQ8bMfGaxzGWO",
      "include_colab_link": true
    },
    "kernelspec": {
      "name": "python3",
      "display_name": "Python 3"
    },
    "language_info": {
      "name": "python"
    }
  },
  "cells": [
    {
      "cell_type": "markdown",
      "metadata": {
        "id": "view-in-github",
        "colab_type": "text"
      },
      "source": [
        "<a href=\"https://colab.research.google.com/github/123abhinaya/DSA-for-FAANG/blob/main/greedy_and_best_time_to_sell_stock_matrix_searchi_binary_search.ipynb\" target=\"_parent\"><img src=\"https://colab.research.google.com/assets/colab-badge.svg\" alt=\"Open In Colab\"/></a>"
      ]
    },
    {
      "cell_type": "code",
      "execution_count": null,
      "metadata": {
        "colab": {
          "base_uri": "https://localhost:8080/"
        },
        "id": "gheSIFnlHQjJ",
        "outputId": "b3a2d3b2-ba69-4b39-db2d-b2aa59bc3f0d"
      },
      "outputs": [
        {
          "output_type": "stream",
          "name": "stdout",
          "text": [
            "enter : 210\n",
            "20 40 60 80 90 120 240\n",
            "4 5\n"
          ]
        }
      ],
      "source": [
        "# two pointer app\n",
        "target = int(input(\"enter : \"))\n",
        "arr = list(map(int,input().split()))\n",
        "i,j = 0,len(arr)-1\n",
        "while(i<=j):\n",
        "  if(arr[i]+arr[j] == target):\n",
        "    print(i,j)\n",
        "    break\n",
        "  elif(arr[i]+arr[j] > target):\n",
        "    j = j-1\n",
        "  else:\n",
        "    i = i+1\n",
        "else:\n",
        "  print(\"not found\")\n",
        "# tc - O(n)\n",
        "# sc - O(1)"
      ]
    },
    {
      "cell_type": "code",
      "source": [
        "# BEST TIME TO SELL AND BUY STOCKS\n",
        "stk = [7,1,5,3,6,4]\n",
        "prof = 0\n",
        "val = stk[0]\n",
        "for i in range(1,len(stk)):\n",
        "  if(stk[i]<val):\n",
        "    val = stk[i]\n",
        "  elif(stk[i]>val):\n",
        "    prof = max(prof,stk[i]-val)\n",
        "print(prof)"
      ],
      "metadata": {
        "colab": {
          "base_uri": "https://localhost:8080/"
        },
        "id": "ULuIvSUxKWsl",
        "outputId": "95fede62-d143-4508-e714-054ca464f4d7"
      },
      "execution_count": null,
      "outputs": [
        {
          "output_type": "stream",
          "name": "stdout",
          "text": [
            "5\n"
          ]
        }
      ]
    },
    {
      "cell_type": "code",
      "source": [
        "stk = [1,2,3,4,5,6]\n",
        "prof = 0\n",
        "m_p = float('inf')\n",
        "for i in stk:\n",
        "  if i < m_p:\n",
        "    m_p = i\n",
        "  else:\n",
        "    prof = max(prof,i-m_p)\n",
        "print(prof)"
      ],
      "metadata": {
        "colab": {
          "base_uri": "https://localhost:8080/"
        },
        "outputId": "67b98684-4289-4412-c9d5-90fc34ffbb80",
        "id": "cXfA5wWlQRPl"
      },
      "execution_count": 2,
      "outputs": [
        {
          "output_type": "stream",
          "name": "stdout",
          "text": [
            "5\n"
          ]
        }
      ]
    },
    {
      "cell_type": "code",
      "source": [
        "# matrix searching\n",
        "arr = [[1,2,3],[4,5,6],[7,8,9],[10,11,12]]\n",
        "row = len(arr)-1\n",
        "col = len(arr[0])-1\n",
        "t = 0\n",
        "target = int(input(\"enter val :\"))\n",
        "for i in range(0,row+1):\n",
        "  if(arr[i][col]==target):\n",
        "    print('true',i+1,col+1)\n",
        "    break\n",
        "  elif(arr[i][col] > target):\n",
        "    k = i\n",
        "    break\n",
        "for i in range(0,col+1):\n",
        "  if(arr[k][i] == target):\n",
        "    print('true',k+1,i+1)\n",
        "    t = 1\n",
        "if t==0:\n",
        "  print('false')\n",
        "# tc = O(n)"
      ],
      "metadata": {
        "colab": {
          "base_uri": "https://localhost:8080/"
        },
        "id": "5lfphvVikMC6",
        "outputId": "76332f52-b1e5-40ce-c111-34d4e6d082a5"
      },
      "execution_count": 5,
      "outputs": [
        {
          "output_type": "stream",
          "name": "stdout",
          "text": [
            "enter val :23\n",
            "false\n"
          ]
        }
      ]
    },
    {
      "cell_type": "markdown",
      "source": [
        "optimal **code**"
      ],
      "metadata": {
        "id": "iALlhivIsJT_"
      }
    },
    {
      "cell_type": "code",
      "source": [
        "arr = [[1,2,3,4],[5,6,7,8],[9,10,11,12]]\n",
        "row = len(arr)\n",
        "col = len(arr[0])\n",
        "t = int(input(\"enter val :\"))\n",
        "n = (row * col ) - 1\n",
        "i = 0\n",
        "j = n\n",
        "while(i<=j):\n",
        "  mid = (i+j)//2\n",
        "  r = mid//col\n",
        "  c = mid%col\n",
        "  if(arr[r][c]==t):\n",
        "    print(\"true\")\n",
        "    break\n",
        "  elif (arr[r][c]> t):\n",
        "    j = mid-1\n",
        "  else:\n",
        "    i = mid+1\n",
        "else:\n",
        "  print(\"false\")\n",
        "# tc = O(log(row*col)"
      ],
      "metadata": {
        "colab": {
          "base_uri": "https://localhost:8080/"
        },
        "id": "b45YTqJusUID",
        "outputId": "ae547c24-d812-4745-8335-de7207699e95"
      },
      "execution_count": null,
      "outputs": [
        {
          "output_type": "stream",
          "name": "stdout",
          "text": [
            "enter val :13\n",
            "false\n"
          ]
        }
      ]
    }
  ]
}