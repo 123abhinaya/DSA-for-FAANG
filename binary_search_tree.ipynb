{
  "nbformat": 4,
  "nbformat_minor": 0,
  "metadata": {
    "colab": {
      "provenance": [],
      "authorship_tag": "ABX9TyMQQwMhB7kLUQUUJjA+XuSN",
      "include_colab_link": true
    },
    "kernelspec": {
      "name": "python3",
      "display_name": "Python 3"
    },
    "language_info": {
      "name": "python"
    }
  },
  "cells": [
    {
      "cell_type": "markdown",
      "metadata": {
        "id": "view-in-github",
        "colab_type": "text"
      },
      "source": [
        "<a href=\"https://colab.research.google.com/github/123abhinaya/DSA-for-FAANG/blob/main/binary_search_tree.ipynb\" target=\"_parent\"><img src=\"https://colab.research.google.com/assets/colab-badge.svg\" alt=\"Open In Colab\"/></a>"
      ]
    },
    {
      "cell_type": "code",
      "execution_count": null,
      "metadata": {
        "colab": {
          "base_uri": "https://localhost:8080/"
        },
        "id": "yaCImQZo414i",
        "outputId": "5f3c6714-c39f-41b7-d509-e77e61f3fd32"
      },
      "outputs": [
        {
          "output_type": "stream",
          "name": "stdout",
          "text": [
            "4 5 50 60 65 90 100 "
          ]
        }
      ],
      "source": [
        "class Node:\n",
        "  def __init__(self,x):\n",
        "    self.data = x\n",
        "    self.left = None\n",
        "    self.right = None\n",
        "def builtbinarytree(arr):\n",
        "  root = Node(arr[0])\n",
        "  for i in range(1,len(arr)):\n",
        "    val = Node(arr[i])\n",
        "    curr = root\n",
        "    while True :\n",
        "      if arr[i]<curr.data:\n",
        "        if not curr.left:\n",
        "          curr.left = val\n",
        "          break\n",
        "        else:\n",
        "          curr = curr.left\n",
        "      else:\n",
        "        if not curr.right:\n",
        "          curr.right = val\n",
        "          break\n",
        "        else:\n",
        "          curr = curr.right\n",
        "  return root\n",
        "def inorder(root):\n",
        "  if root is None:\n",
        "    return\n",
        "  inorder(root.left)\n",
        "  print(root.data,end=\" \")\n",
        "  inorder(root.right)\n",
        "arr = [50,60,90,5,4,100]\n",
        "root = builtbinarytree(arr)\n",
        "insertion(root,65)\n",
        "inorder(root)"
      ]
    },
    {
      "cell_type": "code",
      "source": [
        "## best/avg case tc ==> O(logn) balanced tree\n",
        "## wrost case tc ==>O(n) case when tree skewed on one side then all nodes must\n",
        "## be traverse\n",
        "\n",
        "class Node:\n",
        "  def __init__(self,x):\n",
        "    self.data = x\n",
        "    self.left = None\n",
        "    self.right = None\n",
        "def insertion(root,x):\n",
        "  val = Node(x)\n",
        "  curr = root\n",
        "  while True :\n",
        "    if val.data == curr.data:\n",
        "        return val.data\n",
        "    elif val.data<curr.data:\n",
        "        if not curr.left:\n",
        "          curr.left = val\n",
        "          break\n",
        "        else:\n",
        "          curr = curr.left\n",
        "    else:\n",
        "        if not curr.right:\n",
        "          curr.right = val\n",
        "          break\n",
        "        else:\n",
        "          curr = curr.right\n",
        "  return\n",
        "def insertion_recursive(root,x):\n",
        "  if root is None:\n",
        "    return Node(x)\n",
        "  else:\n",
        "    if root.data > x:\n",
        "      root.left = insertion_recursive(root.left,x)\n",
        "    else:\n",
        "      root.right = insertion_recursive(root.right,x)\n",
        "  return root\n",
        "def search(root,x):\n",
        "  if root is None :\n",
        "    return False\n",
        "  else:\n",
        "    curr = root\n",
        "    while curr:\n",
        "      if curr.data == x:\n",
        "        return curr\n",
        "        break\n",
        "      elif curr.data > x:\n",
        "        return search(curr.left,x)\n",
        "      else:\n",
        "        return search(curr.right,x)\n",
        "    else:\n",
        "      return False\n",
        "def del_node(curr):\n",
        "    if not curr.left and not curr.right:\n",
        "      curr.data = None\n",
        "    elif curr.left or curr.right:\n",
        "      if curr.left and not curr.right:\n",
        "        curr.data = curr.left.data\n",
        "        del_node(curr.left)\n",
        "      elif curr.right and not curr.left:\n",
        "        curr.data = curr.right.data\n",
        "        del_node(curr.right)\n",
        "      else:\n",
        "        p = curr\n",
        "        p = p.right\n",
        "        if p.left:\n",
        "          p = p.left\n",
        "        curr.data = p.data\n",
        "        p.data = None\n",
        "def delete(root,val):\n",
        "  curr = search(root,val)\n",
        "  if not curr:\n",
        "    return None\n",
        "  return del_node(curr)\n",
        "def inorder(root):\n",
        "  if root is None:\n",
        "    return\n",
        "  inorder(root.left)\n",
        "  print(root.data,end=\" \")\n",
        "  inorder(root.right)\n",
        "\n",
        "root = Node(150)\n",
        "insertion(root,114)\n",
        "insertion(root,141)\n",
        "insertion(root,139)\n",
        "insertion(root,140)\n",
        "insertion(root,110)\n",
        "insertion(root,120)\n",
        "insertion(root,129)\n",
        "delete(root,110)\n",
        "inorder(root)"
      ],
      "metadata": {
        "colab": {
          "base_uri": "https://localhost:8080/"
        },
        "id": "xSrSeV11Gh8m",
        "outputId": "899fa3cf-3ab5-4be5-9c6c-b32406685fb5"
      },
      "execution_count": 30,
      "outputs": [
        {
          "output_type": "stream",
          "name": "stdout",
          "text": [
            "None 114 120 129 139 140 141 150 "
          ]
        }
      ]
    },
    {
      "cell_type": "markdown",
      "source": [
        "searching an element in binary tree and printing subtree from it\n",
        "1.  https://leetcode.com/problems/search-in-a-binary-search-tree/description/"
      ],
      "metadata": {
        "id": "rPS4qcNBjs3w"
      }
    },
    {
      "cell_type": "code",
      "source": [
        "class Node:\n",
        "     def __init__(self, val):\n",
        "         self.val = val\n",
        "         self.left = None\n",
        "         self.right = None\n",
        "def searchBST(root, val) :\n",
        "    arr = []\n",
        "    def printing(curr):\n",
        "          curr1 = curr\n",
        "          if not curr:\n",
        "             return\n",
        "          arr.append(curr1.val)\n",
        "          printing(curr1.left)\n",
        "          printing(curr1.right)\n",
        "          return arr\n",
        "    def search(root,val):\n",
        "            curr = root\n",
        "            if not curr:\n",
        "                return None\n",
        "            if curr.val == val:\n",
        "              printing(curr)\n",
        "              return arr\n",
        "            elif curr.val > val:\n",
        "                return search(curr.left,val)\n",
        "            else :\n",
        "                return search(curr.right,val)\n",
        "    return search(root,val)\n",
        "root = Node(40)\n",
        "root.left = Node(2)\n",
        "root.right = Node(7)\n",
        "root.left.left = Node(1)\n",
        "root.left.right = Node(3)\n",
        "print(searchBST(root,2))"
      ],
      "metadata": {
        "colab": {
          "base_uri": "https://localhost:8080/"
        },
        "id": "m29OnncCjrhI",
        "outputId": "5c299ad1-bda4-4618-f216-774b0952474a"
      },
      "execution_count": 3,
      "outputs": [
        {
          "output_type": "stream",
          "name": "stdout",
          "text": [
            "[2, 1, 3]\n"
          ]
        }
      ]
    }
  ]
}