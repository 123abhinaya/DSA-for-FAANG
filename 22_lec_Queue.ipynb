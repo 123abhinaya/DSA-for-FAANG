{
  "nbformat": 4,
  "nbformat_minor": 0,
  "metadata": {
    "colab": {
      "provenance": [],
      "authorship_tag": "ABX9TyPQ0koaEjFFMnvYAdeIp/VP",
      "include_colab_link": true
    },
    "kernelspec": {
      "name": "python3",
      "display_name": "Python 3"
    },
    "language_info": {
      "name": "python"
    }
  },
  "cells": [
    {
      "cell_type": "markdown",
      "metadata": {
        "id": "view-in-github",
        "colab_type": "text"
      },
      "source": [
        "<a href=\"https://colab.research.google.com/github/123abhinaya/DSA-for-FAANG/blob/main/22_lec_Queue.ipynb\" target=\"_parent\"><img src=\"https://colab.research.google.com/assets/colab-badge.svg\" alt=\"Open In Colab\"/></a>"
      ]
    },
    {
      "cell_type": "markdown",
      "source": [
        " fifo based where it has front and rare (front used for insertion and rare used for deletion) ADT of queue is\n",
        "1.  enqueue\n",
        "2.  dequeue"
      ],
      "metadata": {
        "id": "TD277vS3fvnI"
      }
    },
    {
      "cell_type": "code",
      "source": [
        "## tc = O(1)\n",
        "## sc = O(1)\n",
        "from collections import deque\n",
        "\n",
        "class Queue:\n",
        "    def __init__(self):\n",
        "        self.container = deque() ## provides the insertion and deletion is possible from both ends\n",
        "\n",
        "    def enqueue(self, val):\n",
        "        self.container.append(val)  # O(1) operation\n",
        "\n",
        "    def dequeue(self):\n",
        "        if not self.container:\n",
        "            return \"Queue is empty\"\n",
        "        return self.container.popleft()  # O(1) operation\n",
        "\n",
        "    def is_empty(self):\n",
        "        return len(self.container) == 0\n",
        "    def size(self):\n",
        "      return len(self.container)\n",
        "\n",
        "    def front(self):\n",
        "        if self.is_empty():\n",
        "            return \"Queue is empty\"\n",
        "        return self.container[0]\n",
        "    def binary_generation(self,n):\n",
        "      q = Queue()\n",
        "      q.enqueue('1')\n",
        "      for i in range(1,n):\n",
        "        front = q.front()\n",
        "        print(front,end=\" \")\n",
        "        q.enqueue(front + \"0\")\n",
        "        q.enqueue(front + \"1\")\n",
        "        q.dequeue()\n",
        "q = Queue()\n",
        "q.enqueue(10)\n",
        "q.enqueue(10)\n",
        "q.dequeue()\n",
        "q.binary_generation(10)"
      ],
      "metadata": {
        "colab": {
          "base_uri": "https://localhost:8080/"
        },
        "id": "nRjHsv-cwEut",
        "outputId": "b70aa13a-f4f2-437b-e421-7a7b8d3b12df"
      },
      "execution_count": 40,
      "outputs": [
        {
          "output_type": "stream",
          "name": "stdout",
          "text": [
            "1 10 11 100 101 110 111 1000 1001 "
          ]
        }
      ]
    },
    {
      "cell_type": "markdown",
      "source": [
        "Formation of biary numbers"
      ],
      "metadata": {
        "id": "Kzi5DU-G9a4C"
      }
    },
    {
      "cell_type": "code",
      "source": [
        "n = 10\n",
        "stk = deque()\n",
        "stk.append([1])\n",
        "for i in range((n-1)//2):\n",
        "  s = stk[i].copy()\n",
        "  p = stk[i].copy()\n",
        "  s.append(0)\n",
        "  stk.append(s)\n",
        "  p.append(1)\n",
        "  stk.append(p)\n",
        "print(stk)"
      ],
      "metadata": {
        "colab": {
          "base_uri": "https://localhost:8080/"
        },
        "id": "3NmyQ8VS2pkV",
        "outputId": "00bda61b-e458-41f0-e1be-0241397fab22"
      },
      "execution_count": 35,
      "outputs": [
        {
          "output_type": "stream",
          "name": "stdout",
          "text": [
            "deque([[1], [1, 0], [1, 1], [1, 0, 0], [1, 0, 1], [1, 1, 0], [1, 1, 1], [1, 0, 0, 0], [1, 0, 0, 1], [1, 0, 1, 0], [1, 0, 1, 1]])\n"
          ]
        }
      ]
    }
  ]
}