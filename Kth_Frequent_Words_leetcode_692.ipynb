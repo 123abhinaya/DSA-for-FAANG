{
  "nbformat": 4,
  "nbformat_minor": 0,
  "metadata": {
    "colab": {
      "provenance": [],
      "authorship_tag": "ABX9TyOYvVBbIMU8n5gYJ6siFqbw",
      "include_colab_link": true
    },
    "kernelspec": {
      "name": "python3",
      "display_name": "Python 3"
    },
    "language_info": {
      "name": "python"
    }
  },
  "cells": [
    {
      "cell_type": "markdown",
      "metadata": {
        "id": "view-in-github",
        "colab_type": "text"
      },
      "source": [
        "<a href=\"https://colab.research.google.com/github/123abhinaya/DSA-for-FAANG/blob/main/Kth_Frequent_Words_leetcode_692.ipynb\" target=\"_parent\"><img src=\"https://colab.research.google.com/assets/colab-badge.svg\" alt=\"Open In Colab\"/></a>"
      ]
    },
    {
      "cell_type": "markdown",
      "source": [
        "K frequen words leetcode-692"
      ],
      "metadata": {
        "id": "y8qH0ihzV6WS"
      }
    },
    {
      "cell_type": "code",
      "execution_count": 3,
      "metadata": {
        "colab": {
          "base_uri": "https://localhost:8080/"
        },
        "id": "qEq_nY13VCPo",
        "outputId": "f587acce-251b-4e08-ac02-87c5267c5318"
      },
      "outputs": [
        {
          "output_type": "stream",
          "name": "stdout",
          "text": [
            "['i', 'love']\n"
          ]
        }
      ],
      "source": [
        "from heapq import heappush,heappop\n",
        "words = [\"i\",\"love\",\"leetcode\",\"i\",\"love\",\"coding\"]\n",
        "k = 2\n",
        "d = {}\n",
        "for i in words:\n",
        "    if i in d:\n",
        "        d[i] += 1\n",
        "    else:\n",
        "        d[i] = 1\n",
        "min_heap = []\n",
        "for key,value in d.items():\n",
        "    heappush(min_heap,(-value,key)) ## for max heap building\n",
        "x = []\n",
        "for i in range(k):\n",
        "    x.append(heappop(min_heap)[1])\n",
        "print(x)"
      ]
    }
  ]
}