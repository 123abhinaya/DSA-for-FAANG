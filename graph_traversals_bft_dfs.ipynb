{
  "nbformat": 4,
  "nbformat_minor": 0,
  "metadata": {
    "colab": {
      "provenance": [],
      "authorship_tag": "ABX9TyMRWJRLBfDCHuLwg9A2h/15",
      "include_colab_link": true
    },
    "kernelspec": {
      "name": "python3",
      "display_name": "Python 3"
    },
    "language_info": {
      "name": "python"
    }
  },
  "cells": [
    {
      "cell_type": "markdown",
      "metadata": {
        "id": "view-in-github",
        "colab_type": "text"
      },
      "source": [
        "<a href=\"https://colab.research.google.com/github/123abhinaya/DSA-for-FAANG/blob/main/graph_traversals_bft_dfs.ipynb\" target=\"_parent\"><img src=\"https://colab.research.google.com/assets/colab-badge.svg\" alt=\"Open In Colab\"/></a>"
      ]
    },
    {
      "cell_type": "markdown",
      "source": [
        "depth first search which uses recursion to traverse and use stack based data structure"
      ],
      "metadata": {
        "id": "lujpDCwrdKvB"
      }
    },
    {
      "cell_type": "code",
      "source": [
        "def depth_first_search(visted,graph,node):\n",
        "  if node not in visted:\n",
        "    print(node,end = \" \")\n",
        "    visted.add(node)\n",
        "  for i in graph[node]:\n",
        "    depth_first_search(visted,graph,i)\n",
        "\n",
        "visted = set()\n",
        "## driver code\n",
        "graph = {\n",
        "    '5' : ['3','7'],\n",
        "    '3' : ['2','4'],\n",
        "    '7' : ['8'],\n",
        "    '2' : [],\n",
        "    '4' : ['8'],\n",
        "    '8' : []\n",
        "}\n",
        "depth_first_search(visted,graph,'5')"
      ],
      "metadata": {
        "colab": {
          "base_uri": "https://localhost:8080/"
        },
        "id": "7cbCr6EiUVTH",
        "outputId": "643ab517-8ee5-43f5-9774-91156f129b2f"
      },
      "execution_count": null,
      "outputs": [
        {
          "output_type": "stream",
          "name": "stdout",
          "text": [
            "5 3 2 4 8 7 "
          ]
        }
      ]
    },
    {
      "cell_type": "markdown",
      "source": [
        "Breadth first search or level order search it uses queue based data structure"
      ],
      "metadata": {
        "id": "2wlfv7SsZhXS"
      }
    },
    {
      "cell_type": "code",
      "source": [
        "from collections import deque\n",
        "##function\n",
        "def breadth_first_search(graph,node):\n",
        "  s = set()\n",
        "  arr = deque()\n",
        "  arr.append(node)\n",
        "  while arr:\n",
        "    popped = arr.popleft()\n",
        "    if not popped in s:\n",
        "      print(popped,end = \" \")\n",
        "      s.add(popped)\n",
        "    for i in graph[popped]:\n",
        "        arr.append(i)\n",
        "## driver code\n",
        "graph = {\n",
        "    '5' : ['3','7'],\n",
        "    '3' : ['2','4'],\n",
        "    '7' : ['8'],\n",
        "    '2' : [],\n",
        "    '4' : ['8'],\n",
        "    '8' : []\n",
        "}\n",
        "breadth_first_search(graph,'5')"
      ],
      "metadata": {
        "colab": {
          "base_uri": "https://localhost:8080/"
        },
        "id": "_agoB_y-ZnSV",
        "outputId": "65366fe4-b419-423d-d6a3-0a05bca4562b"
      },
      "execution_count": null,
      "outputs": [
        {
          "output_type": "stream",
          "name": "stdout",
          "text": [
            "5 3 7 2 4 8 "
          ]
        }
      ]
    },
    {
      "cell_type": "markdown",
      "source": [
        "tree traversal using dfs same like inordr traversal"
      ],
      "metadata": {
        "id": "IFYP7SKPafL4"
      }
    },
    {
      "cell_type": "code",
      "source": [
        "class Node:\n",
        "  def __init__(self,x):\n",
        "    self.node = x\n",
        "    self.left = None\n",
        "    self.right = None\n",
        "def BFS(root):\n",
        "  if root is None :\n",
        "    return\n",
        "  print(root.node,end = \" \")\n",
        "  BFS(root.left)\n",
        "  BFS(root.right)\n",
        "root = Node(9)\n",
        "root.left = Node(10)\n",
        "root.right = Node(8)\n",
        "root.right.left = Node(7)\n",
        "root.right.right = Node(5)\n",
        "root.left.right = Node(88)\n",
        "BFS(root)"
      ],
      "metadata": {
        "colab": {
          "base_uri": "https://localhost:8080/"
        },
        "id": "9-NHrCkkakEJ",
        "outputId": "6dc45c98-aaf5-4082-e0ad-11ac05d39234"
      },
      "execution_count": null,
      "outputs": [
        {
          "output_type": "stream",
          "name": "stdout",
          "text": [
            "9 10 88 8 7 5 "
          ]
        }
      ]
    }
  ]
}