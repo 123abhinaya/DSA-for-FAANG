{
  "nbformat": 4,
  "nbformat_minor": 0,
  "metadata": {
    "colab": {
      "provenance": [],
      "authorship_tag": "ABX9TyMErc+12GEjkcMmANaAtM3p",
      "include_colab_link": true
    },
    "kernelspec": {
      "name": "python3",
      "display_name": "Python 3"
    },
    "language_info": {
      "name": "python"
    }
  },
  "cells": [
    {
      "cell_type": "markdown",
      "metadata": {
        "id": "view-in-github",
        "colab_type": "text"
      },
      "source": [
        "<a href=\"https://colab.research.google.com/github/123abhinaya/DSA-for-FAANG/blob/main/inversion_count_(using_merge_sort).ipynb\" target=\"_parent\"><img src=\"https://colab.research.google.com/assets/colab-badge.svg\" alt=\"Open In Colab\"/></a>"
      ]
    },
    {
      "cell_type": "markdown",
      "source": [
        "1. mam's version\n",
        "no.of inversions in an array\n",
        "1. i<j and arr[i]>arr[j]\n",
        "2. input =  [70, 50, 60, 10, 20, 30, 80, 15]\n",
        "3. output = 17"
      ],
      "metadata": {
        "id": "nQopnpLJubbX"
      }
    },
    {
      "cell_type": "code",
      "execution_count": 12,
      "metadata": {
        "colab": {
          "base_uri": "https://localhost:8080/"
        },
        "id": "MSUHnPYRf9C6",
        "outputId": "bf650c81-7550-461e-bec6-74713ca00edb"
      },
      "outputs": [
        {
          "output_type": "stream",
          "name": "stdout",
          "text": [
            "17\n"
          ]
        }
      ],
      "source": [
        "def merge_procedure(arr, i, mid, j):\n",
        "    x = i\n",
        "    y = mid + 1\n",
        "    p = []\n",
        "    cnt = 0\n",
        "\n",
        "    while x <= mid and y <= j:\n",
        "        if arr[x] <= arr[y]:\n",
        "            p.append(arr[x])\n",
        "            x += 1\n",
        "        else:\n",
        "            p.append(arr[y])\n",
        "            cnt += (mid - x + 1)  # all elements from x to mid are greater than arr[y]\n",
        "            y += 1\n",
        "\n",
        "    while x <= mid:\n",
        "        p.append(arr[x])\n",
        "        x += 1\n",
        "\n",
        "    while y <= j:\n",
        "        p.append(arr[y])\n",
        "        y += 1\n",
        "\n",
        "    for index in range(len(p)):\n",
        "        arr[i + index] = p[index]\n",
        "\n",
        "    return cnt\n",
        "\n",
        "def merge_sort(arr, i, j):\n",
        "    if i >= j:\n",
        "        return 0\n",
        "\n",
        "    mid = i + (j - i) // 2\n",
        "    res = 0\n",
        "    res += merge_sort(arr, i, mid)\n",
        "    res += merge_sort(arr, mid + 1, j)\n",
        "    res += merge_procedure(arr, i, mid, j)\n",
        "    return res\n",
        "\n",
        "# Driver code\n",
        "arr = [70, 50, 60, 10, 20, 30, 80, 15]\n",
        "x = merge_sort(arr, 0, len(arr) - 1)\n",
        "print(x)\n",
        "## tc ==> O(nlogn)\n",
        "## sc ==> O(n)"
      ]
    },
    {
      "cell_type": "markdown",
      "source": [
        "same my version"
      ],
      "metadata": {
        "id": "qrCiv98tu9al"
      }
    },
    {
      "cell_type": "code",
      "source": [
        "# inversion count code\n",
        "def inversion_cnt(arr,i):\n",
        "    j = i+1\n",
        "    cnt = 0\n",
        "    while(i<j and j < len(arr)):\n",
        "        if(arr[i] > arr[j]):\n",
        "            cnt += 1\n",
        "            j += 1\n",
        "        else:\n",
        "            j += 1\n",
        "    return cnt\n",
        "arr = [70,50,60,10,20,30,80,15]\n",
        "res = 0\n",
        "for i in range(len(arr)):\n",
        "    res += inversion_cnt(arr,i)\n",
        "print(res)\n",
        "## tc ==> O(n^2)\n",
        "## sc ==> O(1)"
      ],
      "metadata": {
        "colab": {
          "base_uri": "https://localhost:8080/"
        },
        "id": "xATn6fnGv8PE",
        "outputId": "5b26f3a1-fdcd-43ba-cf26-d468b087a437"
      },
      "execution_count": 11,
      "outputs": [
        {
          "output_type": "stream",
          "name": "stdout",
          "text": [
            "17\n"
          ]
        }
      ]
    }
  ]
}