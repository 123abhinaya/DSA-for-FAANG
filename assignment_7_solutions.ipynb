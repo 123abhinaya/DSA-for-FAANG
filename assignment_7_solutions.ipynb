{
  "nbformat": 4,
  "nbformat_minor": 0,
  "metadata": {
    "colab": {
      "provenance": [],
      "authorship_tag": "ABX9TyOBJK2tKugMQ3DPOW4YRebd",
      "include_colab_link": true
    },
    "kernelspec": {
      "name": "python3",
      "display_name": "Python 3"
    },
    "language_info": {
      "name": "python"
    }
  },
  "cells": [
    {
      "cell_type": "markdown",
      "metadata": {
        "id": "view-in-github",
        "colab_type": "text"
      },
      "source": [
        "<a href=\"https://colab.research.google.com/github/123abhinaya/DSA-for-FAANG/blob/main/solutions_of_assignment_7.ipynb\" target=\"_parent\"><img src=\"https://colab.research.google.com/assets/colab-badge.svg\" alt=\"Open In Colab\"/></a>"
      ]
    },
    {
      "cell_type": "markdown",
      "source": [
        "Given array of integers nums of length n and nteger target find three integers in nums such that the sum is closest to the target **(amazon)**\n",
        "\n",
        "*   you need to return sum of three integers\n",
        "*   arr = [-1,2,1,-4] target = 1\n",
        "\n",
        "*   output = 1\n",
        "*   explaination = [-1+2+1] -> 2\n",
        "\n",
        "\n",
        "\n"
      ],
      "metadata": {
        "id": "YjYjTU14qj6X"
      }
    },
    {
      "cell_type": "code",
      "source": [
        "def sum(arr,n,target):\n",
        "  arr.sort() ## tc = O(log(n))\n",
        "  diff = float('inf')\n",
        "  for i in range(n-2):\n",
        "    j = i+1\n",
        "    k = n-1\n",
        "    while(j<k): ## two pointer approach\n",
        "      s = arr[i]+arr[j]+arr[k]\n",
        "      if(abs(target - s) < diff):\n",
        "        diff = abs(target - s)\n",
        "        ans = s\n",
        "      if(s < target):\n",
        "        j += 1\n",
        "      else:\n",
        "        k -= 1\n",
        "  print(ans)\n",
        "arr = [-1,2,3,-4]\n",
        "sum(arr,len(arr),5)\n",
        "## tc ==> O(n^2)"
      ],
      "metadata": {
        "colab": {
          "base_uri": "https://localhost:8080/"
        },
        "id": "PSIDKett7PlZ",
        "outputId": "cfac27c1-639b-43f4-f3c4-b9d49ad39d25"
      },
      "execution_count": 42,
      "outputs": [
        {
          "output_type": "stream",
          "name": "stdout",
          "text": [
            "4\n"
          ]
        }
      ]
    },
    {
      "cell_type": "markdown",
      "source": [
        "Given three points if three points lies on same line then they are collinear to each other\n",
        "\n",
        "*   1st method (finding slopes s1 = (y2-y1)//(x2-x1) s2 = (y3-y2)//(x3-x2) if s1 and s2 are equal then they are collinear else not)\n",
        "*   2nd method ( finding area of triangle if it is equal to 0 then collinear eklse not collinear (x1*(y2-y3)+x2*(y3-y1)+x3*(y1-y2)))\n",
        "\n"
      ],
      "metadata": {
        "id": "etpN0jvHVHDx"
      }
    },
    {
      "cell_type": "code",
      "execution_count": 5,
      "metadata": {
        "colab": {
          "base_uri": "https://localhost:8080/"
        },
        "id": "zRjx5qGL-F2e",
        "outputId": "cb535733-9f16-431e-e936-d7a5a0789dcf"
      },
      "outputs": [
        {
          "output_type": "stream",
          "name": "stdout",
          "text": [
            "1 1 1 1 4 5\n",
            "True\n"
          ]
        }
      ],
      "source": [
        "def collinear(x1,y1,x2,y2,x3,y3):\n",
        "  area = (x1*(y2-y3)+x2*(y3-y1)+x3*(y1-y2))## formula mul 0.5 but without 0.5 it is more acurrate\n",
        "  if area == 0:\n",
        "    return True\n",
        "  else:\n",
        "    return False\n",
        "#driver code\n",
        "x1,y1,x2,y2,x3,y3 = map(int,input().split())\n",
        "print(collinear(x1,y1,x2,y2,x3,y3))"
      ]
    },
    {
      "cell_type": "markdown",
      "source": [
        "Approach - 2: Using slope fromula integer float division may give exception so instead use this formula\n",
        "*   (y3-y2)*(x2-x1) == (y2-y1)*(x3-x2)"
      ],
      "metadata": {
        "id": "dfeWKFnQZL6X"
      }
    },
    {
      "cell_type": "code",
      "source": [
        "def collinear(x1, y1, x2, y2, x3, y3):\n",
        "\n",
        "    if ((y3 - y2)*(x2 - x1) == (y2 - y1)*(x3 - x2)):\n",
        "        print (\"Yes\")\n",
        "    else:\n",
        "        print (\"No\")\n",
        "\n",
        "# Driver Code\n",
        "x1, x2, x3, y1, y2, y3 = 1,1,1,1,4,5\n",
        "collinear(x1, y1, x2, y2, x3, y3);"
      ],
      "metadata": {
        "colab": {
          "base_uri": "https://localhost:8080/"
        },
        "id": "KDzL6kukXUku",
        "outputId": "1df8d1c8-8796-4ef3-8bd6-1973870bbcf1"
      },
      "execution_count": 7,
      "outputs": [
        {
          "output_type": "stream",
          "name": "stdout",
          "text": [
            "Yes\n"
          ]
        }
      ]
    },
    {
      "cell_type": "markdown",
      "source": [
        "an ecommerce site tracks the prchases made each day the product that is purchased the most one day is the featured product for the following day if there is a tie for the product purchased most frequently those product names are prder in alphabetical ascending and last name in the list is choosen\n",
        "\n",
        "*   input = ['yellowShirt','redHat','bluePant','redHat','pinkHat','blackShirt','yellowShirt','greenPant','greenPant','greenPant']\n",
        "*   output = greenPants\n",
        "\n"
      ],
      "metadata": {
        "id": "Bps9h6fjZtBY"
      }
    },
    {
      "cell_type": "code",
      "source": [
        "def freq(arr,n):\n",
        "  d = {}\n",
        "  for i in arr:\n",
        "    if i in d:\n",
        "      d[i] += 1\n",
        "    else:\n",
        "      d[i] = 1\n",
        "  max = float('-inf')\n",
        "  for key,value in d.items():\n",
        "    if(value > max):\n",
        "      max = value\n",
        "  x = []\n",
        "  for key,value in d.items():\n",
        "    if(value == max):\n",
        "      x.append(key)\n",
        "  p = sorted(x)\n",
        "  print(p[-1])\n",
        "arr = ['yellowShirt','redHat','bluePant','redHat','pinkHat','blackShirt','yellowShirt','greenPant','greenPant','greenPant','yellowShirt']\n",
        "freq(arr,len(arr))\n",
        "# tc ==> O(nlogn)"
      ],
      "metadata": {
        "colab": {
          "base_uri": "https://localhost:8080/"
        },
        "id": "DjAe-YnEjJW4",
        "outputId": "f2546d90-735e-4a60-9ced-e45fd1e61af2"
      },
      "execution_count": 33,
      "outputs": [
        {
          "output_type": "stream",
          "name": "stdout",
          "text": [
            "yellowShirt\n"
          ]
        }
      ]
    }
  ]
}
