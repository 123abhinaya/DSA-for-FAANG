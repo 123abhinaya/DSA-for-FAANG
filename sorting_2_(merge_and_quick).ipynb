{
  "nbformat": 4,
  "nbformat_minor": 0,
  "metadata": {
    "colab": {
      "provenance": [],
      "authorship_tag": "ABX9TyMfFa/9xXqrbCqo7sDfiBpc",
      "include_colab_link": true
    },
    "kernelspec": {
      "name": "python3",
      "display_name": "Python 3"
    },
    "language_info": {
      "name": "python"
    }
  },
  "cells": [
    {
      "cell_type": "markdown",
      "metadata": {
        "id": "view-in-github",
        "colab_type": "text"
      },
      "source": [
        "<a href=\"https://colab.research.google.com/github/123abhinaya/DSA-for-FAANG/blob/main/sorting_2_(merge_and_quick).ipynb\" target=\"_parent\"><img src=\"https://colab.research.google.com/assets/colab-badge.svg\" alt=\"Open In Colab\"/></a>"
      ]
    },
    {
      "cell_type": "markdown",
      "source": [
        "**MERGE SORT**"
      ],
      "metadata": {
        "id": "dCyR0FMzehOm"
      }
    },
    {
      "cell_type": "code",
      "source": [
        "## tc ==> O(nlogn)\n",
        "## sc ==> O(n) for p array + stack space\n",
        "def merge_procedure(arr, i, mid, j):\n",
        "    x = i\n",
        "    y = mid + 1\n",
        "    p = []\n",
        "\n",
        "    while x <= mid and y <= j:\n",
        "        if arr[x] < arr[y]:\n",
        "            p.append(arr[x])\n",
        "            x += 1\n",
        "        else:\n",
        "            p.append(arr[y])\n",
        "            y += 1\n",
        "\n",
        "    while x <= mid:\n",
        "        p.append(arr[x])\n",
        "        x += 1\n",
        "\n",
        "    while y <= j:\n",
        "        p.append(arr[y])\n",
        "        y += 1\n",
        "\n",
        "    for index in range(len(p)):## replacing p array ele into original array(arr)\n",
        "        arr[i + index] = p[index]\n",
        "\n",
        "def merge_sort(arr, i, j):\n",
        "    if i == j:\n",
        "        return arr[i]\n",
        "    mid = i + (j - i) // 2\n",
        "    merge_sort(arr, i, mid)\n",
        "    merge_sort(arr, mid + 1, j)\n",
        "    merge_procedure(arr, i, mid, j)\n",
        "    return arr\n",
        "\n",
        "# Driver code\n",
        "arr = [50, 70, 65, 13, 80, 62, 98, 27]\n",
        "merge_sort(arr, 0, len(arr) - 1)\n",
        "print(arr)\n"
      ],
      "metadata": {
        "colab": {
          "base_uri": "https://localhost:8080/"
        },
        "id": "LGjq3mHGngqR",
        "outputId": "b2521f8f-8662-47a4-ff08-e2c1719afa91"
      },
      "execution_count": null,
      "outputs": [
        {
          "output_type": "stream",
          "name": "stdout",
          "text": [
            "[13, 27, 50, 62, 65, 70, 80, 98]\n"
          ]
        }
      ]
    },
    {
      "cell_type": "markdown",
      "source": [
        "**QUICK SORT**"
      ],
      "metadata": {
        "id": "vjNfZtY1qQIl"
      }
    },
    {
      "cell_type": "code",
      "source": [
        "## func to partion\n",
        "def partion(arr,x,y):\n",
        "  pivot = arr[x]\n",
        "  i = x\n",
        "  j = i+1\n",
        "  while (j<=y):\n",
        "    if(arr[j]<pivot):\n",
        "      i += 1\n",
        "      arr[i],arr[j] = arr[j],arr[i]\n",
        "    j += 1\n",
        "  arr[x],arr[i] = arr[i],arr[x]\n",
        "  return i\n",
        "## func to quick sort\n",
        "def quick_sort(arr,i,j):\n",
        "  if(i >= j): ## important\n",
        "    return\n",
        "  pivot = partion(arr,i,j)\n",
        "  quick_sort(arr,i,pivot-1)\n",
        "  quick_sort(arr,pivot+1,j)\n",
        "# Driver code\n",
        "arr = [50, 70, 65, 13, 80, 62, 98, 27]\n",
        "quick_sort(arr, 0, len(arr) - 1)\n",
        "print(arr)\n",
        "## tc ==> O(nlogn) best case when pivote is at middlie\n",
        "## tc ==> O(n^2) wrost case when all elem are at right or left side of pivot\n",
        "## sc ==> O(1)+stack space"
      ],
      "metadata": {
        "id": "sf2TBkbYqX6n",
        "colab": {
          "base_uri": "https://localhost:8080/"
        },
        "outputId": "885057ac-2681-4009-f4a1-321deccc09fc"
      },
      "execution_count": 9,
      "outputs": [
        {
          "output_type": "stream",
          "name": "stdout",
          "text": [
            "[13, 27, 50, 62, 65, 70, 80, 98]\n"
          ]
        }
      ]
    }
  ]
}