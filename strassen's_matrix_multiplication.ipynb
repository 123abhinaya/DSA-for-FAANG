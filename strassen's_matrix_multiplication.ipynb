{
  "nbformat": 4,
  "nbformat_minor": 0,
  "metadata": {
    "colab": {
      "provenance": [],
      "authorship_tag": "ABX9TyPb2l54beLnU+Rgi2D6VXgo",
      "include_colab_link": true
    },
    "kernelspec": {
      "name": "python3",
      "display_name": "Python 3"
    },
    "language_info": {
      "name": "python"
    }
  },
  "cells": [
    {
      "cell_type": "markdown",
      "metadata": {
        "id": "view-in-github",
        "colab_type": "text"
      },
      "source": [
        "<a href=\"https://colab.research.google.com/github/123abhinaya/DSA-for-FAANG/blob/main/strassen's_matrix_multiplication.ipynb\" target=\"_parent\"><img src=\"https://colab.research.google.com/assets/colab-badge.svg\" alt=\"Open In Colab\"/></a>"
      ]
    },
    {
      "cell_type": "code",
      "execution_count": 5,
      "metadata": {
        "colab": {
          "base_uri": "https://localhost:8080/"
        },
        "id": "lTsW_EQhO5jQ",
        "outputId": "6b432bab-3787-430f-fb99-d4ff6bdd6a0d"
      },
      "outputs": [
        {
          "output_type": "stream",
          "name": "stdout",
          "text": [
            "[[19 22]\n",
            " [43 50]]\n"
          ]
        }
      ],
      "source": [
        "import numpy as np\n",
        "a = np.array([[1,2],[3,4]])\n",
        "b = np.array([[5,6],[7,8]])\n",
        "print(a @ b)"
      ]
    },
    {
      "cell_type": "code",
      "source": [
        "def split(matrix):\n",
        "    row, col = matrix.shape\n",
        "    row2, col2 = row//2, col//2\n",
        "    return matrix[:row2, :col2], matrix[:row2, col2:], matrix[row2:, :col2], matrix[row2:, col2:]\n",
        "\n",
        "def strassen(x, y):\n",
        "    # Base case when size of matrices is 1x1\n",
        "    if len(x) == 1:\n",
        "        return x * y\n",
        "\n",
        "    # Splitting the matrices into quadrants. This will be done recursively\n",
        "    # until the base case is reached.\n",
        "    a, b, c, d = split(x)\n",
        "    e, f, g, h = split(y)\n",
        "\n",
        "    # Computing the 7 products, recursively (p1, p2...p7)\n",
        "    p1 = strassen(a, f - h)\n",
        "    p2 = strassen(a + b, h)\n",
        "    p3 = strassen(c + d, e)\n",
        "    p4 = strassen(d, g - e)\n",
        "    p5 = strassen(a + d, e + h)\n",
        "    p6 = strassen(b - d, g + h)\n",
        "    p7 = strassen(a - c, e + f)\n",
        "\n",
        "    # Computing the values of the 4 quadrants of the final matrix c\n",
        "    c11 = p5 + p4 - p2 + p6\n",
        "    c12 = p1 + p2\n",
        "    c21 = p3 + p4\n",
        "    c22 = p1 + p5 - p3 - p7\n",
        "\n",
        "    # Combining the 4 quadrants into a single matrix by stacking horizontally and vertically.\n",
        "    c = np.vstack((np.hstack((c11, c12)), np.hstack((c21, c22))))\n",
        "\n",
        "    return c\n",
        "\n",
        "## Driver code\n",
        "A = np.array([[1, 1, 1, 1], [2, 2, 2, 2], [3, 3, 3, 3], [2, 2, 2, 2]])\n",
        "B = np.array([[1, 1, 1, 1], [2, 2, 2, 2], [3, 3, 3, 3], [2, 2, 2, 2]])\n",
        "print('Matrix multiplication result: ')\n",
        "print(strassen(A, B))\n",
        ""
      ],
      "metadata": {
        "colab": {
          "base_uri": "https://localhost:8080/"
        },
        "id": "qQ7cQCwEYk3z",
        "outputId": "85ae8a2f-9eac-4d07-fb64-2707d3c35af3"
      },
      "execution_count": 6,
      "outputs": [
        {
          "output_type": "stream",
          "name": "stdout",
          "text": [
            "Matrix multiplication result: \n",
            "[[ 8  8  8  8]\n",
            " [16 16 16 16]\n",
            " [24 24 24 24]\n",
            " [16 16 16 16]]\n"
          ]
        }
      ]
    }
  ]
}