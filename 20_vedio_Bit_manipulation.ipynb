{
  "nbformat": 4,
  "nbformat_minor": 0,
  "metadata": {
    "colab": {
      "provenance": [],
      "authorship_tag": "ABX9TyPfdn2dxaOEbEBR0qfHxQ1C",
      "include_colab_link": true
    },
    "kernelspec": {
      "name": "python3",
      "display_name": "Python 3"
    },
    "language_info": {
      "name": "python"
    }
  },
  "cells": [
    {
      "cell_type": "markdown",
      "metadata": {
        "id": "view-in-github",
        "colab_type": "text"
      },
      "source": [
        "<a href=\"https://colab.research.google.com/github/123abhinaya/DSA-for-FAANG/blob/main/20_vedio_Bit_manipulation.ipynb\" target=\"_parent\"><img src=\"https://colab.research.google.com/assets/colab-badge.svg\" alt=\"Open In Colab\"/></a>"
      ]
    },
    {
      "cell_type": "markdown",
      "source": [
        "Divide two numbers without using any mul,div,modulo operator(https://https://leetcode.com/problems/divide-two-integers/submissions/1642827559/)"
      ],
      "metadata": {
        "id": "DbXMQyEZffui"
      }
    },
    {
      "cell_type": "markdown",
      "source": [
        "divide two integers with using mult,divide,modulo operations\n",
        "1. approach - 1"
      ],
      "metadata": {
        "id": "D5Mq8miTMoXq"
      }
    },
    {
      "cell_type": "code",
      "execution_count": null,
      "metadata": {
        "colab": {
          "base_uri": "https://localhost:8080/"
        },
        "id": "iWFwSHnEL9uP",
        "outputId": "a9967dfa-803c-48b5-d399-4b41b38a870d"
      },
      "outputs": [
        {
          "output_type": "stream",
          "name": "stdout",
          "text": [
            "2000\n"
          ]
        }
      ],
      "source": [
        "dividend = 100000\n",
        "divisor = 50\n",
        "cnt = 0\n",
        "while(dividend > 0):\n",
        "  dividend -= divisor\n",
        "  cnt += 1\n",
        "print(cnt)"
      ]
    },
    {
      "cell_type": "markdown",
      "source": [
        "2. apprach - 2 using Bitwise operators"
      ],
      "metadata": {
        "id": "1aHjYKtoeKSE"
      }
    },
    {
      "cell_type": "code",
      "source": [
        "def divide(dividend, divisor):\n",
        "        INT_MAX = 2**31 - 1\n",
        "        INT_MIN = -2**31\n",
        "\n",
        "        # Handle overflow case\n",
        "        if dividend == INT_MIN and divisor == -1:\n",
        "            return INT_MAX\n",
        "        negative = (dividend < 0) != (divisor < 0)\n",
        "        dividend,divisor = abs(dividend),abs(divisor)\n",
        "        res = 0\n",
        "        while (dividend >= divisor):\n",
        "            shift = 0\n",
        "            while(dividend >= (divisor << shift)):\n",
        "                shift += 1\n",
        "            res += 1 << (shift -1)\n",
        "            dividend -= divisor << (shift-1)\n",
        "        if negative :\n",
        "            return -res\n",
        "        else:\n",
        "            return res\n",
        "dividend = 47\n",
        "divisor = 4\n",
        "print(divide(dividend,divisor))"
      ],
      "metadata": {
        "id": "rnBJbX3jyTHX",
        "colab": {
          "base_uri": "https://localhost:8080/"
        },
        "outputId": "6b7560ca-0398-4eb1-e5f7-9002b25a40c7"
      },
      "execution_count": null,
      "outputs": [
        {
          "output_type": "stream",
          "name": "stdout",
          "text": [
            "11\n"
          ]
        }
      ]
    },
    {
      "cell_type": "markdown",
      "source": [
        "floyd's cycle detection algorithm (https://leetcode.com/problems/linked-list-cycle/)"
      ],
      "metadata": {
        "id": "bkN6-DaqgCkC"
      }
    }
  ]
}