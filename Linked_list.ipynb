{
  "nbformat": 4,
  "nbformat_minor": 0,
  "metadata": {
    "colab": {
      "provenance": [],
      "authorship_tag": "ABX9TyPnacIPsAMsfnlkLCGZiEyk",
      "include_colab_link": true
    },
    "kernelspec": {
      "name": "python3",
      "display_name": "Python 3"
    },
    "language_info": {
      "name": "python"
    }
  },
  "cells": [
    {
      "cell_type": "markdown",
      "metadata": {
        "id": "view-in-github",
        "colab_type": "text"
      },
      "source": [
        "<a href=\"https://colab.research.google.com/github/123abhinaya/DSA-for-FAANG/blob/main/Linked_list.ipynb\" target=\"_parent\"><img src=\"https://colab.research.google.com/assets/colab-badge.svg\" alt=\"Open In Colab\"/></a>"
      ]
    },
    {
      "cell_type": "code",
      "execution_count": 67,
      "metadata": {
        "colab": {
          "base_uri": "https://localhost:8080/"
        },
        "id": "5xjX_3RkmzY2",
        "outputId": "646258b4-f8a5-440e-ab8c-a56b67586d6d"
      },
      "outputs": [
        {
          "output_type": "stream",
          "name": "stdout",
          "text": [
            "10\n"
          ]
        }
      ],
      "source": [
        "class Node:\n",
        "  def __init__(self,data):\n",
        "    self.node = data\n",
        "    self.next = None\n",
        "class Linkedlist:\n",
        "  def __init__(self):\n",
        "    self.head = None\n",
        "\n",
        "\n",
        "  def insertion_beg(self,data):\n",
        "    new_node = Node(data)\n",
        "    if self.head == None:\n",
        "      self.head = new_node\n",
        "    else:\n",
        "      new_node.next = self.head\n",
        "      self.head = new_node\n",
        "\n",
        "\n",
        "\n",
        "  def insrtion_at_index(self,data,k):\n",
        "    new_node = Node(data)\n",
        "    if k == 0:\n",
        "      new_node.next = self.head\n",
        "      self.head = new_node\n",
        "    else:\n",
        "      curr = self.head\n",
        "      cnt = 0\n",
        "      while(cnt < k-1 and curr):\n",
        "        curr = curr.next\n",
        "        cnt += 1\n",
        "      new_node.next = curr.next\n",
        "      curr.next = new_node\n",
        "\n",
        "\n",
        "\n",
        "  def insertion_end(self,data):\n",
        "    new_node = Node(data)\n",
        "    curr = self.head\n",
        "    while curr.next != None:\n",
        "      curr = curr.next\n",
        "    curr.next = new_node\n",
        "\n",
        "\n",
        "\n",
        "  def delete_beg(self):\n",
        "    if self.head == None:\n",
        "      print(\"no ele to remove\")\n",
        "      return\n",
        "    curr = self.head\n",
        "    self.head = self.head.next\n",
        "\n",
        "\n",
        "\n",
        "  def delete_index(self,x):\n",
        "    curr = self.head\n",
        "    if x == 0:\n",
        "      self.delete_beg()\n",
        "      return\n",
        "    else:\n",
        "      cnt = 0\n",
        "      while(cnt < x-1 and curr):\n",
        "        curr = curr.next\n",
        "        cnt += 1\n",
        "      if curr.next == None:\n",
        "        print(\"list index out of bound\")\n",
        "        return\n",
        "      curr.next = curr.next.next\n",
        "\n",
        "\n",
        "\n",
        "\n",
        "  def traversal(self):\n",
        "    curr = self.head\n",
        "    while curr:\n",
        "      print(curr.node)\n",
        "      curr = curr.next\n",
        "\n",
        "\n",
        "\n",
        "\n",
        "ll = Linkedlist()\n",
        "ll.insertion_beg(10)\n",
        "ll.insertion_beg(46)\n",
        "ll.delete_beg()\n",
        "ll.delete_beg()\n",
        "ll.insertion_beg(10)\n",
        "ll.insertion_beg(46)\n",
        "ll.delete_index(0)\n",
        "ll.traversal()"
      ]
    }
  ]
}