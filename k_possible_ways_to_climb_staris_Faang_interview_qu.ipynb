{
  "nbformat": 4,
  "nbformat_minor": 0,
  "metadata": {
    "colab": {
      "provenance": [],
      "authorship_tag": "ABX9TyMTe0fGKeVHL6rGqiN/QmhE",
      "include_colab_link": true
    },
    "kernelspec": {
      "name": "python3",
      "display_name": "Python 3"
    },
    "language_info": {
      "name": "python"
    }
  },
  "cells": [
    {
      "cell_type": "markdown",
      "metadata": {
        "id": "view-in-github",
        "colab_type": "text"
      },
      "source": [
        "<a href=\"https://colab.research.google.com/github/123abhinaya/DSA-for-FAANG/blob/main/k_possible_ways_to_climb_staris_Faang_interview_qu.ipynb\" target=\"_parent\"><img src=\"https://colab.research.google.com/assets/colab-badge.svg\" alt=\"Open In Colab\"/></a>"
      ]
    },
    {
      "cell_type": "markdown",
      "source": [
        "k possible ways to clib a strais of n steps\n",
        "\n",
        "*   such that he can move 1 step or 2 step at a time\n",
        "*   inp => n(no.of steps)\n",
        "*   o/p => k possible ways to climb\n",
        "*   n = 1 k =1 (1)\n",
        "*   n = 2 k =2 (1,1),2steps\n",
        "*   n = 3 k = 3 (1,1,1),(1,2),(2,1)\n",
        "*   n = 4 k = 5 (1,1,1,1),(1,1,2),(1,2,1),(2,1,1),(2,2)\n",
        "*   fallows fibanacci series\n",
        "\n",
        "\n",
        "\n",
        "\n",
        "\n",
        "\n",
        "\n",
        "\n",
        "\n"
      ],
      "metadata": {
        "id": "OrYuntcgjaEy"
      }
    },
    {
      "cell_type": "code",
      "source": [
        "def poss_strais(n):\n",
        "  if n == 0:\n",
        "    return 0\n",
        "  elif n == 1:\n",
        "    return 1\n",
        "  elif n == 2:\n",
        "    return 2\n",
        "  else:\n",
        "    return poss_strais(n-1)+poss_strais(n-2)\n",
        "n = int(input(\"enter the no.of steps : \"))\n",
        "print(poss_strais(n))"
      ],
      "metadata": {
        "colab": {
          "base_uri": "https://localhost:8080/"
        },
        "id": "6IcrgzMgkV0p",
        "outputId": "e9b971ac-6b7f-4ab1-b60b-4b8d61b51b75"
      },
      "execution_count": null,
      "outputs": [
        {
          "output_type": "stream",
          "name": "stdout",
          "text": [
            "enter the no.of steps : 7\n",
            "21\n"
          ]
        }
      ]
    },
    {
      "cell_type": "markdown",
      "source": [
        "The above code gives error for larger values as the stack space increases rapidily so to overcome this we use dynamic programming with recursion we store some caluculated values in an array and when the same function calls on similar value instead of recaluculating we use the val in dynamic array"
      ],
      "metadata": {
        "id": "sdbvinYxoTui"
      }
    },
    {
      "cell_type": "code",
      "source": [
        "def climb_stairs(n):\n",
        "    if n == 0 or n == 1:\n",
        "        return 1\n",
        "\n",
        "    prev = 1  # ways(0)\n",
        "    curr = 1  # ways(1)\n",
        "\n",
        "    for i in range(2, n + 1):\n",
        "        temp = curr\n",
        "        curr = curr + prev\n",
        "        prev = temp\n",
        "\n",
        "    return curr\n",
        "n = int(input(\"enter no.of strais : \"))\n",
        "climb_stairs(n)\n",
        "# tc ==> O(n)\n",
        "# sc ==> O(1)"
      ],
      "metadata": {
        "colab": {
          "base_uri": "https://localhost:8080/"
        },
        "id": "oCjyxrSLpAOg",
        "outputId": "d5b0acb6-6285-4092-e581-aade3d5bcf83"
      },
      "execution_count": null,
      "outputs": [
        {
          "name": "stdout",
          "output_type": "stream",
          "text": [
            "enter no.of strais : 79\n"
          ]
        },
        {
          "output_type": "execute_result",
          "data": {
            "text/plain": [
              "23416728348467685"
            ]
          },
          "metadata": {},
          "execution_count": 14
        }
      ]
    }
  ]
}