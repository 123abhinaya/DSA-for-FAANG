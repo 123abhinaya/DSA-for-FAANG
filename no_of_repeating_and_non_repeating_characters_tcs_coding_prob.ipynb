{
  "nbformat": 4,
  "nbformat_minor": 0,
  "metadata": {
    "colab": {
      "provenance": [],
      "authorship_tag": "ABX9TyOF1YzANcgAinrDgX0cR4WS",
      "include_colab_link": true
    },
    "kernelspec": {
      "name": "python3",
      "display_name": "Python 3"
    },
    "language_info": {
      "name": "python"
    }
  },
  "cells": [
    {
      "cell_type": "markdown",
      "metadata": {
        "id": "view-in-github",
        "colab_type": "text"
      },
      "source": [
        "<a href=\"https://colab.research.google.com/github/123abhinaya/DSA-for-FAANG/blob/main/no_of_repeating_and_non_repeating_characters_tcs_coding_prob.ipynb\" target=\"_parent\"><img src=\"https://colab.research.google.com/assets/colab-badge.svg\" alt=\"Open In Colab\"/></a>"
      ]
    },
    {
      "cell_type": "markdown",
      "source": [
        "NO OF REPEATING AND NON REPEATING CHARATERS IN A STRING\n",
        "\n",
        "1.   first print first non repeating element\n",
        "2.   print number that appears in more\n",
        "3.   if string is empty print invalid\n",
        "4.   if non repeating character exits print none\n",
        "5.   if more than one repeating and non repeating ele exits then print first occurence\n"
      ],
      "metadata": {
        "id": "-SbNSTBa8OZF"
      }
    },
    {
      "cell_type": "code",
      "source": [
        "s = 'aaaabbbb'\n",
        "if (len(s)==0):\n",
        "    print('invalid')\n",
        "else:\n",
        "    d = {}\n",
        "    for i in s:\n",
        "        if i in d:\n",
        "            d[i] += 1\n",
        "        else:\n",
        "            d[i] = 1\n",
        "    max_freq = float('-inf')\n",
        "    for key,val in d.items():\n",
        "        if(val>max_freq and val > 2):\n",
        "            max_freq = val\n",
        "            max_ele = key\n",
        "        else:\n",
        "          max_ele = None\n",
        "    for key,val in d.items():\n",
        "        if(val == 1):\n",
        "            min_ele = key\n",
        "            break\n",
        "        else:\n",
        "            min_ele = None\n",
        "    print(\"min repeating char : \",min_ele,'\\n',\"max repeating characters : \",max_ele)"
      ],
      "metadata": {
        "colab": {
          "base_uri": "https://localhost:8080/"
        },
        "id": "GKL1w9as9MPD",
        "outputId": "43826472-66cc-416d-820f-d7ba8a7c582d"
      },
      "execution_count": 8,
      "outputs": [
        {
          "output_type": "stream",
          "name": "stdout",
          "text": [
            "min repeating char :  None \n",
            " max repeating characters :  None\n"
          ]
        }
      ]
    },
    {
      "cell_type": "code",
      "source": [],
      "metadata": {
        "id": "JHNmGl0nABvX"
      },
      "execution_count": null,
      "outputs": []
    }
  ]
}